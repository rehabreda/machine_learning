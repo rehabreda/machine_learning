{
  "nbformat": 4,
  "nbformat_minor": 0,
  "metadata": {
    "colab": {
      "name": "Big_Model (1).ipynb",
      "provenance": [],
      "collapsed_sections": [],
      "machine_shape": "hm",
      "include_colab_link": true
    },
    "kernelspec": {
      "name": "python3",
      "display_name": "Python 3"
    },
    "accelerator": "GPU"
  },
  "cells": [
    {
      "cell_type": "markdown",
      "metadata": {
        "id": "view-in-github",
        "colab_type": "text"
      },
      "source": [
        "<a href=\"https://colab.research.google.com/github/rehabreda/machine_learning/blob/master/Big_Model_(1).ipynb\" target=\"_parent\"><img src=\"https://colab.research.google.com/assets/colab-badge.svg\" alt=\"Open In Colab\"/></a>"
      ]
    },
    {
      "cell_type": "code",
      "metadata": {
        "id": "i7R5B54xW_Tm",
        "colab_type": "code",
        "colab": {
          "base_uri": "https://localhost:8080/",
          "height": 128
        },
        "outputId": "2864d555-ab81-49c1-d93d-64d67f909e03"
      },
      "source": [
        "from google.colab import drive\n",
        "drive.mount('/content/drive')"
      ],
      "execution_count": 1,
      "outputs": [
        {
          "output_type": "stream",
          "text": [
            "Go to this URL in a browser: https://accounts.google.com/o/oauth2/auth?client_id=947318989803-6bn6qk8qdgf4n4g3pfee6491hc0brc4i.apps.googleusercontent.com&redirect_uri=urn%3Aietf%3Awg%3Aoauth%3A2.0%3Aoob&scope=email%20https%3A%2F%2Fwww.googleapis.com%2Fauth%2Fdocs.test%20https%3A%2F%2Fwww.googleapis.com%2Fauth%2Fdrive%20https%3A%2F%2Fwww.googleapis.com%2Fauth%2Fdrive.photos.readonly%20https%3A%2F%2Fwww.googleapis.com%2Fauth%2Fpeopleapi.readonly&response_type=code\n",
            "\n",
            "Enter your authorization code:\n",
            "··········\n",
            "Mounted at /content/drive\n"
          ],
          "name": "stdout"
        }
      ]
    },
    {
      "cell_type": "code",
      "metadata": {
        "id": "BfUyxdyBTP79",
        "colab_type": "code",
        "colab": {
          "base_uri": "https://localhost:8080/",
          "height": 35
        },
        "outputId": "167b9b14-56ac-4f32-b2ef-7784b9110189"
      },
      "source": [
        "cd /content/drive/My\\ Drive\n"
      ],
      "execution_count": 2,
      "outputs": [
        {
          "output_type": "stream",
          "text": [
            "/content/drive/My Drive\n"
          ],
          "name": "stdout"
        }
      ]
    },
    {
      "cell_type": "code",
      "metadata": {
        "id": "KYfhFpFhX1ku",
        "colab_type": "code",
        "colab": {
          "base_uri": "https://localhost:8080/",
          "height": 35
        },
        "outputId": "ed05115e-6d9b-43d7-a082-2f2b2183d452"
      },
      "source": [
        "cd '2019Q3 Challenge'"
      ],
      "execution_count": 3,
      "outputs": [
        {
          "output_type": "stream",
          "text": [
            "/content/drive/My Drive/2019Q3 Challenge\n"
          ],
          "name": "stdout"
        }
      ]
    },
    {
      "cell_type": "code",
      "metadata": {
        "id": "Ag5Nf9y4XdNM",
        "colab_type": "code",
        "colab": {
          "base_uri": "https://localhost:8080/",
          "height": 35
        },
        "outputId": "f59c31d8-3876-4090-9744-b7522322101a"
      },
      "source": [
        "cd  'Part 01'/"
      ],
      "execution_count": 4,
      "outputs": [
        {
          "output_type": "stream",
          "text": [
            "/content/drive/My Drive/2019Q3 Challenge/Part 01\n"
          ],
          "name": "stdout"
        }
      ]
    },
    {
      "cell_type": "code",
      "metadata": {
        "id": "UXxOZpbwXdJX",
        "colab_type": "code",
        "colab": {
          "base_uri": "https://localhost:8080/",
          "height": 54
        },
        "outputId": "bbf75023-9df3-4685-f08b-629634445734"
      },
      "source": [
        "ls"
      ],
      "execution_count": 5,
      "outputs": [
        {
          "output_type": "stream",
          "text": [
            "'Input Dataset.csv'   merge_data_final.csv   ReadMe.docx\n",
            " merge_data.csv      'Output Dataset.csv'\n"
          ],
          "name": "stdout"
        }
      ]
    },
    {
      "cell_type": "markdown",
      "metadata": {
        "id": "vrFIIXLmeEu5",
        "colab_type": "text"
      },
      "source": [
        "#Import Libraries "
      ]
    },
    {
      "cell_type": "code",
      "metadata": {
        "id": "_L_0wQ1ZdpyL",
        "colab_type": "code",
        "colab": {
          "base_uri": "https://localhost:8080/",
          "height": 35
        },
        "outputId": "1bd6a22b-a74e-42ef-b10b-b23160c9c79a"
      },
      "source": [
        "### import libraries\n",
        "import ast\n",
        "import keras\n",
        "import numpy as np \n",
        "import pandas as pd \n",
        "from keras.utils import to_categorical\n",
        "from keras import regularizers\n",
        "from sklearn.ensemble import RandomForestClassifier\n",
        "from sklearn.metrics import accuracy_score\n",
        "from sklearn.svm import SVC \n",
        "from xgboost import XGBClassifier\n",
        "from sklearn.utils import shuffle\n",
        "from sklearn.feature_selection import SelectKBest\n",
        "from sklearn.feature_selection import chi2\n",
        "from sklearn.preprocessing import MinMaxScaler\n",
        "from sklearn.linear_model import LogisticRegression\n",
        "from sklearn.model_selection import train_test_split"
      ],
      "execution_count": 6,
      "outputs": [
        {
          "output_type": "stream",
          "text": [
            "Using TensorFlow backend.\n"
          ],
          "name": "stderr"
        }
      ]
    },
    {
      "cell_type": "markdown",
      "metadata": {
        "id": "pBDLqx-ae-D0",
        "colab_type": "text"
      },
      "source": [
        "#Load Data \n"
      ]
    },
    {
      "cell_type": "code",
      "metadata": {
        "id": "ap_5wgsXd4qS",
        "colab_type": "code",
        "colab": {}
      },
      "source": [
        "### load data \n",
        "inputs=pd.read_csv('Input Dataset.csv',error_bad_lines=False,engine='python')\n",
        "outputs=pd.read_csv('Output Dataset.csv')"
      ],
      "execution_count": 0,
      "outputs": []
    },
    {
      "cell_type": "code",
      "metadata": {
        "id": "II_5LtMNd8sL",
        "colab_type": "code",
        "colab": {
          "base_uri": "https://localhost:8080/",
          "height": 650
        },
        "outputId": "4051f2c6-5e36-4a27-88ee-5f3a721cc677"
      },
      "source": [
        "inputs.head()"
      ],
      "execution_count": 8,
      "outputs": [
        {
          "output_type": "execute_result",
          "data": {
            "text/html": [
              "<div>\n",
              "<style scoped>\n",
              "    .dataframe tbody tr th:only-of-type {\n",
              "        vertical-align: middle;\n",
              "    }\n",
              "\n",
              "    .dataframe tbody tr th {\n",
              "        vertical-align: top;\n",
              "    }\n",
              "\n",
              "    .dataframe thead th {\n",
              "        text-align: right;\n",
              "    }\n",
              "</style>\n",
              "<table border=\"1\" class=\"dataframe\">\n",
              "  <thead>\n",
              "    <tr style=\"text-align: right;\">\n",
              "      <th></th>\n",
              "      <th>node_no</th>\n",
              "      <th>hour</th>\n",
              "      <th>month</th>\n",
              "      <th>day</th>\n",
              "      <th>year</th>\n",
              "      <th>Bandwidth</th>\n",
              "      <th>counter_0</th>\n",
              "      <th>counter_1</th>\n",
              "      <th>counter_2</th>\n",
              "      <th>counter_3</th>\n",
              "      <th>counter_4</th>\n",
              "      <th>counter_5</th>\n",
              "      <th>counter_6</th>\n",
              "      <th>counter_7</th>\n",
              "      <th>counter_8</th>\n",
              "      <th>counter_9</th>\n",
              "      <th>counter_10</th>\n",
              "      <th>counter_11</th>\n",
              "      <th>counter_12</th>\n",
              "      <th>counter_13</th>\n",
              "      <th>counter_14</th>\n",
              "      <th>counter_15</th>\n",
              "      <th>counter_16</th>\n",
              "      <th>counter_17</th>\n",
              "      <th>counter_18</th>\n",
              "      <th>counter_19</th>\n",
              "      <th>counter_20</th>\n",
              "      <th>counter_21</th>\n",
              "      <th>counter_22</th>\n",
              "      <th>counter_23</th>\n",
              "      <th>counter_24</th>\n",
              "      <th>counter_25</th>\n",
              "      <th>counter_26</th>\n",
              "      <th>counter_27</th>\n",
              "      <th>counter_28</th>\n",
              "      <th>counter_29</th>\n",
              "      <th>counter_30</th>\n",
              "      <th>counter_31</th>\n",
              "      <th>counter_32</th>\n",
              "      <th>counter_33</th>\n",
              "      <th>counter_34</th>\n",
              "      <th>counter_35</th>\n",
              "      <th>counter_36</th>\n",
              "      <th>counter_37</th>\n",
              "      <th>counter_38</th>\n",
              "      <th>counter_39</th>\n",
              "      <th>counter_40</th>\n",
              "      <th>counter_41</th>\n",
              "      <th>counter_42</th>\n",
              "      <th>counter_43</th>\n",
              "      <th>counter_44</th>\n",
              "      <th>counter_45</th>\n",
              "      <th>counter_46</th>\n",
              "      <th>counter_47</th>\n",
              "      <th>counter_48</th>\n",
              "      <th>counter_49</th>\n",
              "      <th>counter_50</th>\n",
              "      <th>counter_51</th>\n",
              "    </tr>\n",
              "  </thead>\n",
              "  <tbody>\n",
              "    <tr>\n",
              "      <th>0</th>\n",
              "      <td>0</td>\n",
              "      <td>0</td>\n",
              "      <td>6</td>\n",
              "      <td>12</td>\n",
              "      <td>2019</td>\n",
              "      <td>10</td>\n",
              "      <td>470620</td>\n",
              "      <td>367862</td>\n",
              "      <td>214295</td>\n",
              "      <td>3592</td>\n",
              "      <td>123759</td>\n",
              "      <td>161336</td>\n",
              "      <td>3711</td>\n",
              "      <td>13</td>\n",
              "      <td>2296</td>\n",
              "      <td>5097</td>\n",
              "      <td>22757</td>\n",
              "      <td>429</td>\n",
              "      <td>17050</td>\n",
              "      <td>9153</td>\n",
              "      <td>4963</td>\n",
              "      <td>1012</td>\n",
              "      <td>5145</td>\n",
              "      <td>13051</td>\n",
              "      <td>7140</td>\n",
              "      <td>6991</td>\n",
              "      <td>309057</td>\n",
              "      <td>75335</td>\n",
              "      <td>78895</td>\n",
              "      <td>1145775</td>\n",
              "      <td>4815765</td>\n",
              "      <td>620</td>\n",
              "      <td>260523</td>\n",
              "      <td>694</td>\n",
              "      <td>568</td>\n",
              "      <td>512</td>\n",
              "      <td>211434</td>\n",
              "      <td>256360</td>\n",
              "      <td>489</td>\n",
              "      <td>720</td>\n",
              "      <td>2916</td>\n",
              "      <td>15</td>\n",
              "      <td>446348</td>\n",
              "      <td>342012</td>\n",
              "      <td>483060</td>\n",
              "      <td>502225</td>\n",
              "      <td>[0.0, 513392.0, 792138.0, 47284.0, 22429.0, 15...</td>\n",
              "      <td>[0.0, 2141075.0, 1297014.0, 78477.0, 32067.0, ...</td>\n",
              "      <td>[1.0, 41.0, 137.0, 102.0, 229.0, 2139.0, 16811...</td>\n",
              "      <td>[17534.0, 11806.0, 44753.0, 30721.0, 28188.0, ...</td>\n",
              "      <td>[0.0, 0.0, 0.0, 1.0, 0.0, 3.0, 3.0, 2.0, 5.0, ...</td>\n",
              "      <td>[2922379.0, 84298.0, 16825.0, 433189.0, 99393....</td>\n",
              "      <td>[29.0, 20.0, 5.0, 6.0, 0.0, 0.0, 0.0, 0.0, 0.0...</td>\n",
              "      <td>[60.0, 0.0, 0.0, 0.0, 0.0, 0.0, 0.0, 0.0, 0.0,...</td>\n",
              "      <td>[107979.0, 0.0, 0.0, 0.0, 0.0, 9.0, 3.0, 3.0, ...</td>\n",
              "      <td>[58.0, 45.0, 123.0, 246.0, 1045.0, 3710.0, 101...</td>\n",
              "      <td>[0.0, 0.0, 0.0, 0.0, 0.0, 0.0, 0.0, 0.0, 1.0, ...</td>\n",
              "      <td>[0.0, 0.0, 0.0, 1.0, 33.0, 408.0, 2735.0, 1124...</td>\n",
              "    </tr>\n",
              "    <tr>\n",
              "      <th>1</th>\n",
              "      <td>0</td>\n",
              "      <td>1</td>\n",
              "      <td>6</td>\n",
              "      <td>12</td>\n",
              "      <td>2019</td>\n",
              "      <td>10</td>\n",
              "      <td>129657</td>\n",
              "      <td>80729</td>\n",
              "      <td>37125</td>\n",
              "      <td>2698</td>\n",
              "      <td>72283</td>\n",
              "      <td>49147</td>\n",
              "      <td>686</td>\n",
              "      <td>17</td>\n",
              "      <td>782</td>\n",
              "      <td>1847</td>\n",
              "      <td>3748</td>\n",
              "      <td>422</td>\n",
              "      <td>8193</td>\n",
              "      <td>3382</td>\n",
              "      <td>2483</td>\n",
              "      <td>530</td>\n",
              "      <td>1133</td>\n",
              "      <td>4949</td>\n",
              "      <td>2047</td>\n",
              "      <td>1315</td>\n",
              "      <td>116997</td>\n",
              "      <td>27616</td>\n",
              "      <td>18965</td>\n",
              "      <td>713044</td>\n",
              "      <td>2038988</td>\n",
              "      <td>299</td>\n",
              "      <td>132990</td>\n",
              "      <td>360</td>\n",
              "      <td>386</td>\n",
              "      <td>299</td>\n",
              "      <td>44554</td>\n",
              "      <td>120356</td>\n",
              "      <td>282</td>\n",
              "      <td>720</td>\n",
              "      <td>1450</td>\n",
              "      <td>11</td>\n",
              "      <td>127771</td>\n",
              "      <td>86418</td>\n",
              "      <td>135699</td>\n",
              "      <td>176369</td>\n",
              "      <td>[0.0, 1886861.0, 1579023.0, 67836.0, 23810.0, ...</td>\n",
              "      <td>[0.0, 3006891.0, 509578.0, 45896.0, 16714.0, 7...</td>\n",
              "      <td>[0.0, 9.0, 47.0, 45.0, 206.0, 1465.0, 9335.0, ...</td>\n",
              "      <td>[4592.0, 1706.0, 7426.0, 9851.0, 7082.0, 10597...</td>\n",
              "      <td>[0.0, 0.0, 0.0, 0.0, 1.0, 0.0, 0.0, 0.0, 1.0, ...</td>\n",
              "      <td>[3061149.0, 13178.0, 1251.0, 479755.0, 31696.0...</td>\n",
              "      <td>[51.0, 9.0, 0.0, 0.0, 0.0, 0.0, 0.0, 0.0, 0.0,...</td>\n",
              "      <td>[59.0, 1.0, 0.0, 0.0, 0.0, 0.0, 0.0, 0.0, 0.0,...</td>\n",
              "      <td>[107979.0, 0.0, 0.0, 0.0, 0.0, 12.0, 0.0, 0.0,...</td>\n",
              "      <td>[48.0, 55.0, 80.0, 153.0, 508.0, 2343.0, 3533....</td>\n",
              "      <td>[0.0, 0.0, 0.0, 0.0, 0.0, 0.0, 0.0, 0.0, 0.0, ...</td>\n",
              "      <td>[0.0, 0.0, 0.0, 0.0, 1.0, 64.0, 928.0, 3835.0,...</td>\n",
              "    </tr>\n",
              "    <tr>\n",
              "      <th>2</th>\n",
              "      <td>0</td>\n",
              "      <td>2</td>\n",
              "      <td>6</td>\n",
              "      <td>12</td>\n",
              "      <td>2019</td>\n",
              "      <td>10</td>\n",
              "      <td>28839</td>\n",
              "      <td>18523</td>\n",
              "      <td>7949</td>\n",
              "      <td>1</td>\n",
              "      <td>21925</td>\n",
              "      <td>11430</td>\n",
              "      <td>235</td>\n",
              "      <td>0</td>\n",
              "      <td>204</td>\n",
              "      <td>1366</td>\n",
              "      <td>638</td>\n",
              "      <td>0</td>\n",
              "      <td>2218</td>\n",
              "      <td>600</td>\n",
              "      <td>1677</td>\n",
              "      <td>71</td>\n",
              "      <td>629</td>\n",
              "      <td>1791</td>\n",
              "      <td>182</td>\n",
              "      <td>102</td>\n",
              "      <td>62587</td>\n",
              "      <td>1798</td>\n",
              "      <td>3069</td>\n",
              "      <td>557469</td>\n",
              "      <td>500218</td>\n",
              "      <td>223</td>\n",
              "      <td>19458</td>\n",
              "      <td>271</td>\n",
              "      <td>402</td>\n",
              "      <td>280</td>\n",
              "      <td>13569</td>\n",
              "      <td>54494</td>\n",
              "      <td>273</td>\n",
              "      <td>720</td>\n",
              "      <td>917</td>\n",
              "      <td>7</td>\n",
              "      <td>30322</td>\n",
              "      <td>24251</td>\n",
              "      <td>34248</td>\n",
              "      <td>72216</td>\n",
              "      <td>[0.0, 2024560.0, 1288489.0, 213675.0, 33865.0,...</td>\n",
              "      <td>[0.0, 3214148.0, 315153.0, 38999.0, 12891.0, 6...</td>\n",
              "      <td>[0.0, 9.0, 40.0, 39.0, 95.0, 1026.0, 3168.0, 3...</td>\n",
              "      <td>[2447.0, 133.0, 399.0, 682.0, 1990.0, 7289.0, ...</td>\n",
              "      <td>[0.0, 0.0, 0.0, 0.0, 0.0, 1.0, 0.0, 0.0, 0.0, ...</td>\n",
              "      <td>[3114499.0, 2764.0, 104.0, 467593.0, 12897.0, ...</td>\n",
              "      <td>[59.0, 1.0, 0.0, 0.0, 0.0, 0.0, 0.0, 0.0, 0.0,...</td>\n",
              "      <td>[60.0, 0.0, 0.0, 0.0, 0.0, 0.0, 0.0, 0.0, 0.0,...</td>\n",
              "      <td>[107976.0, 0.0, 0.0, 0.0, 0.0, 9.0, 0.0, 3.0, ...</td>\n",
              "      <td>[27.0, 19.0, 43.0, 68.0, 117.0, 473.0, 2301.0,...</td>\n",
              "      <td>[0.0, 0.0, 0.0, 0.0, 0.0, 0.0, 0.0, 0.0, 0.0, ...</td>\n",
              "      <td>[0.0, 0.0, 0.0, 0.0, 0.0, 0.0, 42.0, 1212.0, 4...</td>\n",
              "    </tr>\n",
              "    <tr>\n",
              "      <th>3</th>\n",
              "      <td>0</td>\n",
              "      <td>3</td>\n",
              "      <td>6</td>\n",
              "      <td>12</td>\n",
              "      <td>2019</td>\n",
              "      <td>10</td>\n",
              "      <td>17751</td>\n",
              "      <td>17845</td>\n",
              "      <td>5292</td>\n",
              "      <td>0</td>\n",
              "      <td>10683</td>\n",
              "      <td>8994</td>\n",
              "      <td>113</td>\n",
              "      <td>0</td>\n",
              "      <td>142</td>\n",
              "      <td>400</td>\n",
              "      <td>497</td>\n",
              "      <td>1</td>\n",
              "      <td>1215</td>\n",
              "      <td>251</td>\n",
              "      <td>1002</td>\n",
              "      <td>17</td>\n",
              "      <td>99</td>\n",
              "      <td>1455</td>\n",
              "      <td>249</td>\n",
              "      <td>94</td>\n",
              "      <td>45948</td>\n",
              "      <td>2653</td>\n",
              "      <td>3074</td>\n",
              "      <td>523971</td>\n",
              "      <td>205466</td>\n",
              "      <td>206</td>\n",
              "      <td>50349</td>\n",
              "      <td>245</td>\n",
              "      <td>288</td>\n",
              "      <td>261</td>\n",
              "      <td>13016</td>\n",
              "      <td>39056</td>\n",
              "      <td>249</td>\n",
              "      <td>720</td>\n",
              "      <td>790</td>\n",
              "      <td>5</td>\n",
              "      <td>18624</td>\n",
              "      <td>21315</td>\n",
              "      <td>21750</td>\n",
              "      <td>54830</td>\n",
              "      <td>[0.0, 2089627.0, 1239282.0, 231054.0, 18927.0,...</td>\n",
              "      <td>[0.0, 3337262.0, 219961.0, 27234.0, 6707.0, 25...</td>\n",
              "      <td>[0.0, 4.0, 22.0, 12.0, 27.0, 417.0, 2571.0, 28...</td>\n",
              "      <td>[1174.0, 203.0, 572.0, 626.0, 2758.0, 6243.0, ...</td>\n",
              "      <td>[0.0, 0.0, 0.0, 0.0, 0.0, 0.0, 0.0, 0.0, 0.0, ...</td>\n",
              "      <td>[3130794.0, 1283.0, 49.0, 457288.0, 9560.0, 34...</td>\n",
              "      <td>[60.0, 0.0, 0.0, 0.0, 0.0, 0.0, 0.0, 0.0, 0.0,...</td>\n",
              "      <td>[60.0, 0.0, 0.0, 0.0, 0.0, 0.0, 0.0, 0.0, 0.0,...</td>\n",
              "      <td>[107976.0, 0.0, 0.0, 0.0, 0.0, 12.0, 0.0, 6.0,...</td>\n",
              "      <td>[24.0, 10.0, 24.0, 25.0, 42.0, 136.0, 1194.0, ...</td>\n",
              "      <td>[0.0, 0.0, 0.0, 0.0, 0.0, 0.0, 0.0, 0.0, 0.0, ...</td>\n",
              "      <td>[0.0, 0.0, 0.0, 0.0, 0.0, 1.0, 93.0, 785.0, 11...</td>\n",
              "    </tr>\n",
              "    <tr>\n",
              "      <th>4</th>\n",
              "      <td>0</td>\n",
              "      <td>4</td>\n",
              "      <td>6</td>\n",
              "      <td>12</td>\n",
              "      <td>2019</td>\n",
              "      <td>10</td>\n",
              "      <td>42836</td>\n",
              "      <td>35334</td>\n",
              "      <td>12739</td>\n",
              "      <td>0</td>\n",
              "      <td>24262</td>\n",
              "      <td>19297</td>\n",
              "      <td>629</td>\n",
              "      <td>0</td>\n",
              "      <td>1006</td>\n",
              "      <td>1606</td>\n",
              "      <td>1159</td>\n",
              "      <td>0</td>\n",
              "      <td>2752</td>\n",
              "      <td>649</td>\n",
              "      <td>1537</td>\n",
              "      <td>22</td>\n",
              "      <td>1128</td>\n",
              "      <td>2901</td>\n",
              "      <td>275</td>\n",
              "      <td>279</td>\n",
              "      <td>91743</td>\n",
              "      <td>2734</td>\n",
              "      <td>6355</td>\n",
              "      <td>581007</td>\n",
              "      <td>545696</td>\n",
              "      <td>320</td>\n",
              "      <td>75106</td>\n",
              "      <td>402</td>\n",
              "      <td>486</td>\n",
              "      <td>407</td>\n",
              "      <td>21407</td>\n",
              "      <td>80348</td>\n",
              "      <td>398</td>\n",
              "      <td>720</td>\n",
              "      <td>1243</td>\n",
              "      <td>9</td>\n",
              "      <td>44284</td>\n",
              "      <td>41707</td>\n",
              "      <td>50207</td>\n",
              "      <td>107411</td>\n",
              "      <td>[0.0, 2064013.0, 1355993.0, 132165.0, 18483.0,...</td>\n",
              "      <td>[1.0, 3309253.0, 245115.0, 30634.0, 6392.0, 26...</td>\n",
              "      <td>[2.0, 9.0, 62.0, 35.0, 73.0, 709.0, 3786.0, 58...</td>\n",
              "      <td>[2831.0, 459.0, 1262.0, 1243.0, 2444.0, 7107.0...</td>\n",
              "      <td>[0.0, 0.0, 0.0, 0.0, 1.0, 0.0, 0.0, 1.0, 1.0, ...</td>\n",
              "      <td>[3127080.0, 4108.0, 206.0, 446236.0, 19931.0, ...</td>\n",
              "      <td>[60.0, 0.0, 0.0, 0.0, 0.0, 0.0, 0.0, 0.0, 0.0,...</td>\n",
              "      <td>[60.0, 0.0, 0.0, 0.0, 0.0, 0.0, 0.0, 0.0, 0.0,...</td>\n",
              "      <td>[107973.0, 0.0, 0.0, 0.0, 0.0, 15.0, 0.0, 0.0,...</td>\n",
              "      <td>[47.0, 23.0, 42.0, 45.0, 63.0, 315.0, 1763.0, ...</td>\n",
              "      <td>[0.0, 0.0, 0.0, 0.0, 0.0, 0.0, 0.0, 0.0, 0.0, ...</td>\n",
              "      <td>[0.0, 0.0, 0.0, 0.0, 0.0, 5.0, 170.0, 1662.0, ...</td>\n",
              "    </tr>\n",
              "  </tbody>\n",
              "</table>\n",
              "</div>"
            ],
            "text/plain": [
              "   node_no  ...                                         counter_51\n",
              "0        0  ...  [0.0, 0.0, 0.0, 1.0, 33.0, 408.0, 2735.0, 1124...\n",
              "1        0  ...  [0.0, 0.0, 0.0, 0.0, 1.0, 64.0, 928.0, 3835.0,...\n",
              "2        0  ...  [0.0, 0.0, 0.0, 0.0, 0.0, 0.0, 42.0, 1212.0, 4...\n",
              "3        0  ...  [0.0, 0.0, 0.0, 0.0, 0.0, 1.0, 93.0, 785.0, 11...\n",
              "4        0  ...  [0.0, 0.0, 0.0, 0.0, 0.0, 5.0, 170.0, 1662.0, ...\n",
              "\n",
              "[5 rows x 58 columns]"
            ]
          },
          "metadata": {
            "tags": []
          },
          "execution_count": 8
        }
      ]
    },
    {
      "cell_type": "code",
      "metadata": {
        "id": "4mk2OlQLfwKp",
        "colab_type": "code",
        "colab": {
          "base_uri": "https://localhost:8080/",
          "height": 198
        },
        "outputId": "2ef00db1-b5f9-4868-bad4-8e9f8e4daeb1"
      },
      "source": [
        "outputs.head()"
      ],
      "execution_count": 9,
      "outputs": [
        {
          "output_type": "execute_result",
          "data": {
            "text/html": [
              "<div>\n",
              "<style scoped>\n",
              "    .dataframe tbody tr th:only-of-type {\n",
              "        vertical-align: middle;\n",
              "    }\n",
              "\n",
              "    .dataframe tbody tr th {\n",
              "        vertical-align: top;\n",
              "    }\n",
              "\n",
              "    .dataframe thead th {\n",
              "        text-align: right;\n",
              "    }\n",
              "</style>\n",
              "<table border=\"1\" class=\"dataframe\">\n",
              "  <thead>\n",
              "    <tr style=\"text-align: right;\">\n",
              "      <th></th>\n",
              "      <th>node_no</th>\n",
              "      <th>Bandwidth</th>\n",
              "      <th>year</th>\n",
              "      <th>month</th>\n",
              "      <th>day</th>\n",
              "      <th>Issue_no</th>\n",
              "    </tr>\n",
              "  </thead>\n",
              "  <tbody>\n",
              "    <tr>\n",
              "      <th>0</th>\n",
              "      <td>0</td>\n",
              "      <td>10</td>\n",
              "      <td>2019</td>\n",
              "      <td>6</td>\n",
              "      <td>12</td>\n",
              "      <td>7</td>\n",
              "    </tr>\n",
              "    <tr>\n",
              "      <th>1</th>\n",
              "      <td>0</td>\n",
              "      <td>10</td>\n",
              "      <td>2019</td>\n",
              "      <td>6</td>\n",
              "      <td>13</td>\n",
              "      <td>7</td>\n",
              "    </tr>\n",
              "    <tr>\n",
              "      <th>2</th>\n",
              "      <td>0</td>\n",
              "      <td>10</td>\n",
              "      <td>2019</td>\n",
              "      <td>6</td>\n",
              "      <td>14</td>\n",
              "      <td>7</td>\n",
              "    </tr>\n",
              "    <tr>\n",
              "      <th>3</th>\n",
              "      <td>1</td>\n",
              "      <td>10</td>\n",
              "      <td>2019</td>\n",
              "      <td>6</td>\n",
              "      <td>12</td>\n",
              "      <td>11</td>\n",
              "    </tr>\n",
              "    <tr>\n",
              "      <th>4</th>\n",
              "      <td>1</td>\n",
              "      <td>10</td>\n",
              "      <td>2019</td>\n",
              "      <td>6</td>\n",
              "      <td>13</td>\n",
              "      <td>11</td>\n",
              "    </tr>\n",
              "  </tbody>\n",
              "</table>\n",
              "</div>"
            ],
            "text/plain": [
              "   node_no  Bandwidth  year  month  day  Issue_no\n",
              "0        0         10  2019      6   12         7\n",
              "1        0         10  2019      6   13         7\n",
              "2        0         10  2019      6   14         7\n",
              "3        1         10  2019      6   12        11\n",
              "4        1         10  2019      6   13        11"
            ]
          },
          "metadata": {
            "tags": []
          },
          "execution_count": 9
        }
      ]
    },
    {
      "cell_type": "markdown",
      "metadata": {
        "id": "9qv6EeIhgQwK",
        "colab_type": "text"
      },
      "source": [
        "#Drop Null Values\n"
      ]
    },
    {
      "cell_type": "code",
      "metadata": {
        "id": "2kieOUDGgVjD",
        "colab_type": "code",
        "colab": {}
      },
      "source": [
        "inputs.dropna(inplace=True)\n",
        "inputs.reset_index(drop=True, inplace=True)\n",
        "outputs.reset_index(drop=True, inplace=True)"
      ],
      "execution_count": 0,
      "outputs": []
    },
    {
      "cell_type": "code",
      "metadata": {
        "id": "4isuH4s1gZOC",
        "colab_type": "code",
        "colab": {
          "base_uri": "https://localhost:8080/",
          "height": 35
        },
        "outputId": "55045f4e-b4e6-43da-e2f7-e6a351e07c9a"
      },
      "source": [
        "len(inputs)"
      ],
      "execution_count": 11,
      "outputs": [
        {
          "output_type": "execute_result",
          "data": {
            "text/plain": [
              "711432"
            ]
          },
          "metadata": {
            "tags": []
          },
          "execution_count": 11
        }
      ]
    },
    {
      "cell_type": "markdown",
      "metadata": {
        "id": "LYTyUKQ-gxNq",
        "colab_type": "text"
      },
      "source": [
        "#Number Of Classes  13 \n"
      ]
    },
    {
      "cell_type": "code",
      "metadata": {
        "id": "ur7Xf83fgl3m",
        "colab_type": "code",
        "colab": {
          "base_uri": "https://localhost:8080/",
          "height": 35
        },
        "outputId": "3ad6b803-5002-4312-87e2-2fe0b8c9786c"
      },
      "source": [
        "len(set(outputs['Issue_no']))"
      ],
      "execution_count": 12,
      "outputs": [
        {
          "output_type": "execute_result",
          "data": {
            "text/plain": [
              "13"
            ]
          },
          "metadata": {
            "tags": []
          },
          "execution_count": 12
        }
      ]
    },
    {
      "cell_type": "markdown",
      "metadata": {
        "id": "Prr6kREBg6Qh",
        "colab_type": "text"
      },
      "source": [
        "# Merge between inputs and outputs\n",
        "\n",
        "becuase machine learning model learn relation between inputs and outputs they must be connected in form \"Input << Output\""
      ]
    },
    {
      "cell_type": "code",
      "metadata": {
        "id": "m5AkVZCAg0Ot",
        "colab_type": "code",
        "colab": {}
      },
      "source": [
        "### merge inputs with outputs \n",
        "data=inputs.merge(outputs,left_on=['node_no','Bandwidth','year','month','day'],right_on=['node_no','Bandwidth','year','month','day'] ,how='left')"
      ],
      "execution_count": 0,
      "outputs": []
    },
    {
      "cell_type": "code",
      "metadata": {
        "id": "OZOqVJpBhr-F",
        "colab_type": "code",
        "colab": {
          "base_uri": "https://localhost:8080/",
          "height": 301
        },
        "outputId": "967a1af4-b2f0-47b8-9da5-dd70572a7585"
      },
      "source": [
        "data.head(2)"
      ],
      "execution_count": 14,
      "outputs": [
        {
          "output_type": "execute_result",
          "data": {
            "text/html": [
              "<div>\n",
              "<style scoped>\n",
              "    .dataframe tbody tr th:only-of-type {\n",
              "        vertical-align: middle;\n",
              "    }\n",
              "\n",
              "    .dataframe tbody tr th {\n",
              "        vertical-align: top;\n",
              "    }\n",
              "\n",
              "    .dataframe thead th {\n",
              "        text-align: right;\n",
              "    }\n",
              "</style>\n",
              "<table border=\"1\" class=\"dataframe\">\n",
              "  <thead>\n",
              "    <tr style=\"text-align: right;\">\n",
              "      <th></th>\n",
              "      <th>node_no</th>\n",
              "      <th>hour</th>\n",
              "      <th>month</th>\n",
              "      <th>day</th>\n",
              "      <th>year</th>\n",
              "      <th>Bandwidth</th>\n",
              "      <th>counter_0</th>\n",
              "      <th>counter_1</th>\n",
              "      <th>counter_2</th>\n",
              "      <th>counter_3</th>\n",
              "      <th>counter_4</th>\n",
              "      <th>counter_5</th>\n",
              "      <th>counter_6</th>\n",
              "      <th>counter_7</th>\n",
              "      <th>counter_8</th>\n",
              "      <th>counter_9</th>\n",
              "      <th>counter_10</th>\n",
              "      <th>counter_11</th>\n",
              "      <th>counter_12</th>\n",
              "      <th>counter_13</th>\n",
              "      <th>counter_14</th>\n",
              "      <th>counter_15</th>\n",
              "      <th>counter_16</th>\n",
              "      <th>counter_17</th>\n",
              "      <th>counter_18</th>\n",
              "      <th>counter_19</th>\n",
              "      <th>counter_20</th>\n",
              "      <th>counter_21</th>\n",
              "      <th>counter_22</th>\n",
              "      <th>counter_23</th>\n",
              "      <th>counter_24</th>\n",
              "      <th>counter_25</th>\n",
              "      <th>counter_26</th>\n",
              "      <th>counter_27</th>\n",
              "      <th>counter_28</th>\n",
              "      <th>counter_29</th>\n",
              "      <th>counter_30</th>\n",
              "      <th>counter_31</th>\n",
              "      <th>counter_32</th>\n",
              "      <th>counter_33</th>\n",
              "      <th>counter_34</th>\n",
              "      <th>counter_35</th>\n",
              "      <th>counter_36</th>\n",
              "      <th>counter_37</th>\n",
              "      <th>counter_38</th>\n",
              "      <th>counter_39</th>\n",
              "      <th>counter_40</th>\n",
              "      <th>counter_41</th>\n",
              "      <th>counter_42</th>\n",
              "      <th>counter_43</th>\n",
              "      <th>counter_44</th>\n",
              "      <th>counter_45</th>\n",
              "      <th>counter_46</th>\n",
              "      <th>counter_47</th>\n",
              "      <th>counter_48</th>\n",
              "      <th>counter_49</th>\n",
              "      <th>counter_50</th>\n",
              "      <th>counter_51</th>\n",
              "      <th>Issue_no</th>\n",
              "    </tr>\n",
              "  </thead>\n",
              "  <tbody>\n",
              "    <tr>\n",
              "      <th>0</th>\n",
              "      <td>0</td>\n",
              "      <td>0</td>\n",
              "      <td>6</td>\n",
              "      <td>12</td>\n",
              "      <td>2019</td>\n",
              "      <td>10</td>\n",
              "      <td>470620</td>\n",
              "      <td>367862</td>\n",
              "      <td>214295</td>\n",
              "      <td>3592</td>\n",
              "      <td>123759</td>\n",
              "      <td>161336</td>\n",
              "      <td>3711</td>\n",
              "      <td>13</td>\n",
              "      <td>2296</td>\n",
              "      <td>5097</td>\n",
              "      <td>22757</td>\n",
              "      <td>429</td>\n",
              "      <td>17050</td>\n",
              "      <td>9153</td>\n",
              "      <td>4963</td>\n",
              "      <td>1012</td>\n",
              "      <td>5145</td>\n",
              "      <td>13051</td>\n",
              "      <td>7140</td>\n",
              "      <td>6991</td>\n",
              "      <td>309057</td>\n",
              "      <td>75335</td>\n",
              "      <td>78895</td>\n",
              "      <td>1145775</td>\n",
              "      <td>4815765</td>\n",
              "      <td>620</td>\n",
              "      <td>260523</td>\n",
              "      <td>694</td>\n",
              "      <td>568</td>\n",
              "      <td>512</td>\n",
              "      <td>211434</td>\n",
              "      <td>256360</td>\n",
              "      <td>489</td>\n",
              "      <td>720</td>\n",
              "      <td>2916</td>\n",
              "      <td>15</td>\n",
              "      <td>446348</td>\n",
              "      <td>342012</td>\n",
              "      <td>483060</td>\n",
              "      <td>502225</td>\n",
              "      <td>[0.0, 513392.0, 792138.0, 47284.0, 22429.0, 15...</td>\n",
              "      <td>[0.0, 2141075.0, 1297014.0, 78477.0, 32067.0, ...</td>\n",
              "      <td>[1.0, 41.0, 137.0, 102.0, 229.0, 2139.0, 16811...</td>\n",
              "      <td>[17534.0, 11806.0, 44753.0, 30721.0, 28188.0, ...</td>\n",
              "      <td>[0.0, 0.0, 0.0, 1.0, 0.0, 3.0, 3.0, 2.0, 5.0, ...</td>\n",
              "      <td>[2922379.0, 84298.0, 16825.0, 433189.0, 99393....</td>\n",
              "      <td>[29.0, 20.0, 5.0, 6.0, 0.0, 0.0, 0.0, 0.0, 0.0...</td>\n",
              "      <td>[60.0, 0.0, 0.0, 0.0, 0.0, 0.0, 0.0, 0.0, 0.0,...</td>\n",
              "      <td>[107979.0, 0.0, 0.0, 0.0, 0.0, 9.0, 3.0, 3.0, ...</td>\n",
              "      <td>[58.0, 45.0, 123.0, 246.0, 1045.0, 3710.0, 101...</td>\n",
              "      <td>[0.0, 0.0, 0.0, 0.0, 0.0, 0.0, 0.0, 0.0, 1.0, ...</td>\n",
              "      <td>[0.0, 0.0, 0.0, 1.0, 33.0, 408.0, 2735.0, 1124...</td>\n",
              "      <td>7.0</td>\n",
              "    </tr>\n",
              "    <tr>\n",
              "      <th>1</th>\n",
              "      <td>0</td>\n",
              "      <td>1</td>\n",
              "      <td>6</td>\n",
              "      <td>12</td>\n",
              "      <td>2019</td>\n",
              "      <td>10</td>\n",
              "      <td>129657</td>\n",
              "      <td>80729</td>\n",
              "      <td>37125</td>\n",
              "      <td>2698</td>\n",
              "      <td>72283</td>\n",
              "      <td>49147</td>\n",
              "      <td>686</td>\n",
              "      <td>17</td>\n",
              "      <td>782</td>\n",
              "      <td>1847</td>\n",
              "      <td>3748</td>\n",
              "      <td>422</td>\n",
              "      <td>8193</td>\n",
              "      <td>3382</td>\n",
              "      <td>2483</td>\n",
              "      <td>530</td>\n",
              "      <td>1133</td>\n",
              "      <td>4949</td>\n",
              "      <td>2047</td>\n",
              "      <td>1315</td>\n",
              "      <td>116997</td>\n",
              "      <td>27616</td>\n",
              "      <td>18965</td>\n",
              "      <td>713044</td>\n",
              "      <td>2038988</td>\n",
              "      <td>299</td>\n",
              "      <td>132990</td>\n",
              "      <td>360</td>\n",
              "      <td>386</td>\n",
              "      <td>299</td>\n",
              "      <td>44554</td>\n",
              "      <td>120356</td>\n",
              "      <td>282</td>\n",
              "      <td>720</td>\n",
              "      <td>1450</td>\n",
              "      <td>11</td>\n",
              "      <td>127771</td>\n",
              "      <td>86418</td>\n",
              "      <td>135699</td>\n",
              "      <td>176369</td>\n",
              "      <td>[0.0, 1886861.0, 1579023.0, 67836.0, 23810.0, ...</td>\n",
              "      <td>[0.0, 3006891.0, 509578.0, 45896.0, 16714.0, 7...</td>\n",
              "      <td>[0.0, 9.0, 47.0, 45.0, 206.0, 1465.0, 9335.0, ...</td>\n",
              "      <td>[4592.0, 1706.0, 7426.0, 9851.0, 7082.0, 10597...</td>\n",
              "      <td>[0.0, 0.0, 0.0, 0.0, 1.0, 0.0, 0.0, 0.0, 1.0, ...</td>\n",
              "      <td>[3061149.0, 13178.0, 1251.0, 479755.0, 31696.0...</td>\n",
              "      <td>[51.0, 9.0, 0.0, 0.0, 0.0, 0.0, 0.0, 0.0, 0.0,...</td>\n",
              "      <td>[59.0, 1.0, 0.0, 0.0, 0.0, 0.0, 0.0, 0.0, 0.0,...</td>\n",
              "      <td>[107979.0, 0.0, 0.0, 0.0, 0.0, 12.0, 0.0, 0.0,...</td>\n",
              "      <td>[48.0, 55.0, 80.0, 153.0, 508.0, 2343.0, 3533....</td>\n",
              "      <td>[0.0, 0.0, 0.0, 0.0, 0.0, 0.0, 0.0, 0.0, 0.0, ...</td>\n",
              "      <td>[0.0, 0.0, 0.0, 0.0, 1.0, 64.0, 928.0, 3835.0,...</td>\n",
              "      <td>7.0</td>\n",
              "    </tr>\n",
              "  </tbody>\n",
              "</table>\n",
              "</div>"
            ],
            "text/plain": [
              "   node_no  hour  ...                                         counter_51  Issue_no\n",
              "0        0     0  ...  [0.0, 0.0, 0.0, 1.0, 33.0, 408.0, 2735.0, 1124...       7.0\n",
              "1        0     1  ...  [0.0, 0.0, 0.0, 0.0, 1.0, 64.0, 928.0, 3835.0,...       7.0\n",
              "\n",
              "[2 rows x 59 columns]"
            ]
          },
          "metadata": {
            "tags": []
          },
          "execution_count": 14
        }
      ]
    },
    {
      "cell_type": "code",
      "metadata": {
        "id": "Oi2MrjMLT0OJ",
        "colab_type": "code",
        "colab": {}
      },
      "source": [
        "\n",
        "data = shuffle(data)"
      ],
      "execution_count": 0,
      "outputs": []
    },
    {
      "cell_type": "code",
      "metadata": {
        "id": "Nc_fCepIqXPm",
        "colab_type": "code",
        "colab": {}
      },
      "source": [
        "data.dropna(inplace=True)"
      ],
      "execution_count": 0,
      "outputs": []
    },
    {
      "cell_type": "code",
      "metadata": {
        "id": "AKD2PCA9iFZO",
        "colab_type": "code",
        "colab": {
          "base_uri": "https://localhost:8080/",
          "height": 254
        },
        "outputId": "dbf50b1c-ef4f-4188-cba0-81c166a82009"
      },
      "source": [
        "data.columns"
      ],
      "execution_count": 17,
      "outputs": [
        {
          "output_type": "execute_result",
          "data": {
            "text/plain": [
              "Index(['node_no', 'hour', 'month', 'day', 'year', 'Bandwidth', 'counter_0',\n",
              "       'counter_1', 'counter_2', 'counter_3', 'counter_4', 'counter_5',\n",
              "       'counter_6', 'counter_7', 'counter_8', 'counter_9', 'counter_10',\n",
              "       'counter_11', 'counter_12', 'counter_13', 'counter_14', 'counter_15',\n",
              "       'counter_16', 'counter_17', 'counter_18', 'counter_19', 'counter_20',\n",
              "       'counter_21', 'counter_22', 'counter_23', 'counter_24', 'counter_25',\n",
              "       'counter_26', 'counter_27', 'counter_28', 'counter_29', 'counter_30',\n",
              "       'counter_31', 'counter_32', 'counter_33', 'counter_34', 'counter_35',\n",
              "       'counter_36', 'counter_37', 'counter_38', 'counter_39', 'counter_40',\n",
              "       'counter_41', 'counter_42', 'counter_43', 'counter_44', 'counter_45',\n",
              "       'counter_46', 'counter_47', 'counter_48', 'counter_49', 'counter_50',\n",
              "       'counter_51', 'Issue_no'],\n",
              "      dtype='object')"
            ]
          },
          "metadata": {
            "tags": []
          },
          "execution_count": 17
        }
      ]
    },
    {
      "cell_type": "markdown",
      "metadata": {
        "id": "uQVN4T-ZjQ_A",
        "colab_type": "text"
      },
      "source": [
        "#Data in Counter_40 to Counter_51 is list of numbers need to be converted to average of the list numbers ."
      ]
    },
    {
      "cell_type": "code",
      "metadata": {
        "id": "tzYLgIbAjKuk",
        "colab_type": "code",
        "colab": {}
      },
      "source": [
        "### convert data  in Counter_40 to Counter_51 to average \n",
        "for i in range(40,52):\n",
        "    data['counter_{}'.format(i)]=data['counter_{}'.format(i)].apply(lambda s:list(ast.literal_eval(s)))  ## convert string to list \n",
        "    data['counter_{}'.format(i)]=data['counter_{}'.format(i)].apply(lambda s :np.mean(s))  ## taKe average of each list"
      ],
      "execution_count": 0,
      "outputs": []
    },
    {
      "cell_type": "code",
      "metadata": {
        "id": "TZjO9mzs-xqC",
        "colab_type": "code",
        "colab": {
          "base_uri": "https://localhost:8080/",
          "height": 128
        },
        "outputId": "bd8b23c8-7e0f-4771-d80d-39ffbc01657a"
      },
      "source": [
        "data.head(2)"
      ],
      "execution_count": 19,
      "outputs": [
        {
          "output_type": "execute_result",
          "data": {
            "text/html": [
              "<div>\n",
              "<style scoped>\n",
              "    .dataframe tbody tr th:only-of-type {\n",
              "        vertical-align: middle;\n",
              "    }\n",
              "\n",
              "    .dataframe tbody tr th {\n",
              "        vertical-align: top;\n",
              "    }\n",
              "\n",
              "    .dataframe thead th {\n",
              "        text-align: right;\n",
              "    }\n",
              "</style>\n",
              "<table border=\"1\" class=\"dataframe\">\n",
              "  <thead>\n",
              "    <tr style=\"text-align: right;\">\n",
              "      <th></th>\n",
              "      <th>node_no</th>\n",
              "      <th>hour</th>\n",
              "      <th>month</th>\n",
              "      <th>day</th>\n",
              "      <th>year</th>\n",
              "      <th>Bandwidth</th>\n",
              "      <th>counter_0</th>\n",
              "      <th>counter_1</th>\n",
              "      <th>counter_2</th>\n",
              "      <th>counter_3</th>\n",
              "      <th>counter_4</th>\n",
              "      <th>counter_5</th>\n",
              "      <th>counter_6</th>\n",
              "      <th>counter_7</th>\n",
              "      <th>counter_8</th>\n",
              "      <th>counter_9</th>\n",
              "      <th>counter_10</th>\n",
              "      <th>counter_11</th>\n",
              "      <th>counter_12</th>\n",
              "      <th>counter_13</th>\n",
              "      <th>counter_14</th>\n",
              "      <th>counter_15</th>\n",
              "      <th>counter_16</th>\n",
              "      <th>counter_17</th>\n",
              "      <th>counter_18</th>\n",
              "      <th>counter_19</th>\n",
              "      <th>counter_20</th>\n",
              "      <th>counter_21</th>\n",
              "      <th>counter_22</th>\n",
              "      <th>counter_23</th>\n",
              "      <th>counter_24</th>\n",
              "      <th>counter_25</th>\n",
              "      <th>counter_26</th>\n",
              "      <th>counter_27</th>\n",
              "      <th>counter_28</th>\n",
              "      <th>counter_29</th>\n",
              "      <th>counter_30</th>\n",
              "      <th>counter_31</th>\n",
              "      <th>counter_32</th>\n",
              "      <th>counter_33</th>\n",
              "      <th>counter_34</th>\n",
              "      <th>counter_35</th>\n",
              "      <th>counter_36</th>\n",
              "      <th>counter_37</th>\n",
              "      <th>counter_38</th>\n",
              "      <th>counter_39</th>\n",
              "      <th>counter_40</th>\n",
              "      <th>counter_41</th>\n",
              "      <th>counter_42</th>\n",
              "      <th>counter_43</th>\n",
              "      <th>counter_44</th>\n",
              "      <th>counter_45</th>\n",
              "      <th>counter_46</th>\n",
              "      <th>counter_47</th>\n",
              "      <th>counter_48</th>\n",
              "      <th>counter_49</th>\n",
              "      <th>counter_50</th>\n",
              "      <th>counter_51</th>\n",
              "      <th>Issue_no</th>\n",
              "    </tr>\n",
              "  </thead>\n",
              "  <tbody>\n",
              "    <tr>\n",
              "      <th>106548</th>\n",
              "      <td>1513</td>\n",
              "      <td>12</td>\n",
              "      <td>6</td>\n",
              "      <td>14</td>\n",
              "      <td>2019</td>\n",
              "      <td>10</td>\n",
              "      <td>525847</td>\n",
              "      <td>281168</td>\n",
              "      <td>121895</td>\n",
              "      <td>975</td>\n",
              "      <td>390198</td>\n",
              "      <td>142755</td>\n",
              "      <td>3387</td>\n",
              "      <td>7</td>\n",
              "      <td>14157</td>\n",
              "      <td>4860</td>\n",
              "      <td>10575</td>\n",
              "      <td>300</td>\n",
              "      <td>31062</td>\n",
              "      <td>1927</td>\n",
              "      <td>1326</td>\n",
              "      <td>106</td>\n",
              "      <td>929</td>\n",
              "      <td>31637</td>\n",
              "      <td>13377</td>\n",
              "      <td>2161</td>\n",
              "      <td>559302</td>\n",
              "      <td>117877</td>\n",
              "      <td>45917</td>\n",
              "      <td>1378217</td>\n",
              "      <td>10540543</td>\n",
              "      <td>2303</td>\n",
              "      <td>397190</td>\n",
              "      <td>1441</td>\n",
              "      <td>883</td>\n",
              "      <td>864</td>\n",
              "      <td>250419</td>\n",
              "      <td>475312</td>\n",
              "      <td>858</td>\n",
              "      <td>720</td>\n",
              "      <td>5217</td>\n",
              "      <td>13</td>\n",
              "      <td>525553</td>\n",
              "      <td>262566</td>\n",
              "      <td>592055</td>\n",
              "      <td>773433</td>\n",
              "      <td>225000.0</td>\n",
              "      <td>225000.0</td>\n",
              "      <td>70151.25</td>\n",
              "      <td>86251.444444</td>\n",
              "      <td>2.518519</td>\n",
              "      <td>180000.00</td>\n",
              "      <td>6.0</td>\n",
              "      <td>6.0</td>\n",
              "      <td>22909.090909</td>\n",
              "      <td>11289.6875</td>\n",
              "      <td>10.444444</td>\n",
              "      <td>36829.000000</td>\n",
              "      <td>4.0</td>\n",
              "    </tr>\n",
              "    <tr>\n",
              "      <th>457189</th>\n",
              "      <td>6498</td>\n",
              "      <td>13</td>\n",
              "      <td>6</td>\n",
              "      <td>12</td>\n",
              "      <td>2019</td>\n",
              "      <td>10</td>\n",
              "      <td>888982</td>\n",
              "      <td>1288992</td>\n",
              "      <td>399714</td>\n",
              "      <td>7717</td>\n",
              "      <td>502477</td>\n",
              "      <td>503603</td>\n",
              "      <td>21377</td>\n",
              "      <td>806</td>\n",
              "      <td>40784</td>\n",
              "      <td>32280</td>\n",
              "      <td>29532</td>\n",
              "      <td>424</td>\n",
              "      <td>34228</td>\n",
              "      <td>22134</td>\n",
              "      <td>14638</td>\n",
              "      <td>1663</td>\n",
              "      <td>57180</td>\n",
              "      <td>72743</td>\n",
              "      <td>18147</td>\n",
              "      <td>76612</td>\n",
              "      <td>676640</td>\n",
              "      <td>108315</td>\n",
              "      <td>776377</td>\n",
              "      <td>2105845</td>\n",
              "      <td>5989717</td>\n",
              "      <td>8431</td>\n",
              "      <td>1082146</td>\n",
              "      <td>9218</td>\n",
              "      <td>3234</td>\n",
              "      <td>3075</td>\n",
              "      <td>1096145</td>\n",
              "      <td>499418</td>\n",
              "      <td>2966</td>\n",
              "      <td>720</td>\n",
              "      <td>10824</td>\n",
              "      <td>31</td>\n",
              "      <td>726609</td>\n",
              "      <td>1004231</td>\n",
              "      <td>1338950</td>\n",
              "      <td>1806182</td>\n",
              "      <td>225000.0</td>\n",
              "      <td>225000.0</td>\n",
              "      <td>112819.50</td>\n",
              "      <td>210603.888889</td>\n",
              "      <td>20.629630</td>\n",
              "      <td>179999.95</td>\n",
              "      <td>6.0</td>\n",
              "      <td>6.0</td>\n",
              "      <td>29454.545455</td>\n",
              "      <td>24325.7500</td>\n",
              "      <td>33.925926</td>\n",
              "      <td>85474.761905</td>\n",
              "      <td>4.0</td>\n",
              "    </tr>\n",
              "  </tbody>\n",
              "</table>\n",
              "</div>"
            ],
            "text/plain": [
              "        node_no  hour  month  ...  counter_50    counter_51  Issue_no\n",
              "106548     1513    12      6  ...   10.444444  36829.000000       4.0\n",
              "457189     6498    13      6  ...   33.925926  85474.761905       4.0\n",
              "\n",
              "[2 rows x 59 columns]"
            ]
          },
          "metadata": {
            "tags": []
          },
          "execution_count": 19
        }
      ]
    },
    {
      "cell_type": "code",
      "metadata": {
        "id": "lH5KGaK5-njn",
        "colab_type": "code",
        "colab": {}
      },
      "source": [
        "data.to_csv('merge_data_final.csv')"
      ],
      "execution_count": 0,
      "outputs": []
    },
    {
      "cell_type": "markdown",
      "metadata": {
        "id": "0jWX4AMl_oji",
        "colab_type": "text"
      },
      "source": [
        "#split whole data to inputs and targets\n"
      ]
    },
    {
      "cell_type": "code",
      "metadata": {
        "id": "f6C1KdYv_8el",
        "colab_type": "code",
        "colab": {}
      },
      "source": [
        "X=data.iloc[:,:-1]\n",
        "Y=data.iloc[:,-1]"
      ],
      "execution_count": 0,
      "outputs": []
    },
    {
      "cell_type": "code",
      "metadata": {
        "id": "pr9uCTEbj70v",
        "colab_type": "code",
        "colab": {}
      },
      "source": [
        "###transform x,y to numpy array \n",
        "X=np.asarray(X)\n",
        "Y=np.asarray(Y)"
      ],
      "execution_count": 0,
      "outputs": []
    },
    {
      "cell_type": "code",
      "metadata": {
        "id": "BSuv4ddIrILD",
        "colab_type": "code",
        "colab": {
          "base_uri": "https://localhost:8080/",
          "height": 35
        },
        "outputId": "dccad724-9266-4407-c714-0f6fe0bcd68e"
      },
      "source": [
        "X.shape"
      ],
      "execution_count": 22,
      "outputs": [
        {
          "output_type": "execute_result",
          "data": {
            "text/plain": [
              "(402072, 58)"
            ]
          },
          "metadata": {
            "tags": []
          },
          "execution_count": 22
        }
      ]
    },
    {
      "cell_type": "code",
      "metadata": {
        "id": "d-uIYaEDu0kS",
        "colab_type": "code",
        "colab": {
          "base_uri": "https://localhost:8080/",
          "height": 290
        },
        "outputId": "8edd9e07-5ff2-44f9-f053-5a680fa047db"
      },
      "source": [
        "X[0]"
      ],
      "execution_count": 23,
      "outputs": [
        {
          "output_type": "execute_result",
          "data": {
            "text/plain": [
              "array([1.51300000e+03, 1.20000000e+01, 6.00000000e+00, 1.40000000e+01,\n",
              "       2.01900000e+03, 1.00000000e+01, 5.25847000e+05, 2.81168000e+05,\n",
              "       1.21895000e+05, 9.75000000e+02, 3.90198000e+05, 1.42755000e+05,\n",
              "       3.38700000e+03, 7.00000000e+00, 1.41570000e+04, 4.86000000e+03,\n",
              "       1.05750000e+04, 3.00000000e+02, 3.10620000e+04, 1.92700000e+03,\n",
              "       1.32600000e+03, 1.06000000e+02, 9.29000000e+02, 3.16370000e+04,\n",
              "       1.33770000e+04, 2.16100000e+03, 5.59302000e+05, 1.17877000e+05,\n",
              "       4.59170000e+04, 1.37821700e+06, 1.05405430e+07, 2.30300000e+03,\n",
              "       3.97190000e+05, 1.44100000e+03, 8.83000000e+02, 8.64000000e+02,\n",
              "       2.50419000e+05, 4.75312000e+05, 8.58000000e+02, 7.20000000e+02,\n",
              "       5.21700000e+03, 1.30000000e+01, 5.25553000e+05, 2.62566000e+05,\n",
              "       5.92055000e+05, 7.73433000e+05, 2.25000000e+05, 2.25000000e+05,\n",
              "       7.01512500e+04, 8.62514444e+04, 2.51851852e+00, 1.80000000e+05,\n",
              "       6.00000000e+00, 6.00000000e+00, 2.29090909e+04, 1.12896875e+04,\n",
              "       1.04444444e+01, 3.68290000e+04])"
            ]
          },
          "metadata": {
            "tags": []
          },
          "execution_count": 23
        }
      ]
    },
    {
      "cell_type": "markdown",
      "metadata": {
        "id": "rTPlrXuGGe9o",
        "colab_type": "text"
      },
      "source": [
        "#Feature Selection "
      ]
    },
    {
      "cell_type": "code",
      "metadata": {
        "id": "1Ze6bvDzGdJ6",
        "colab_type": "code",
        "colab": {
          "base_uri": "https://localhost:8080/",
          "height": 35
        },
        "outputId": "c891632f-364c-4a88-ab87-28ef54fe2e7f"
      },
      "source": [
        "selector=SelectKBest(chi2, k=53)\n",
        "X_selected=selector.fit_transform(X, Y)\n",
        "X_selected.shape"
      ],
      "execution_count": 24,
      "outputs": [
        {
          "output_type": "execute_result",
          "data": {
            "text/plain": [
              "(402072, 53)"
            ]
          },
          "metadata": {
            "tags": []
          },
          "execution_count": 24
        }
      ]
    },
    {
      "cell_type": "code",
      "metadata": {
        "id": "TbQmPSByu3M_",
        "colab_type": "code",
        "colab": {
          "base_uri": "https://localhost:8080/",
          "height": 235
        },
        "outputId": "0fc02b46-7801-4371-e5f3-753d3fba9ddb"
      },
      "source": [
        "## feature which selected\n",
        "cols = selector.get_support(indices=True)\n",
        "\n",
        "features_names=data.columns[cols]\n",
        "features_names"
      ],
      "execution_count": 25,
      "outputs": [
        {
          "output_type": "execute_result",
          "data": {
            "text/plain": [
              "Index(['node_no', 'Bandwidth', 'counter_0', 'counter_1', 'counter_2',\n",
              "       'counter_3', 'counter_4', 'counter_5', 'counter_6', 'counter_7',\n",
              "       'counter_8', 'counter_9', 'counter_10', 'counter_11', 'counter_12',\n",
              "       'counter_13', 'counter_14', 'counter_15', 'counter_16', 'counter_17',\n",
              "       'counter_18', 'counter_19', 'counter_20', 'counter_21', 'counter_22',\n",
              "       'counter_23', 'counter_24', 'counter_25', 'counter_26', 'counter_27',\n",
              "       'counter_28', 'counter_29', 'counter_30', 'counter_31', 'counter_32',\n",
              "       'counter_34', 'counter_35', 'counter_36', 'counter_37', 'counter_38',\n",
              "       'counter_39', 'counter_40', 'counter_41', 'counter_42', 'counter_43',\n",
              "       'counter_44', 'counter_45', 'counter_46', 'counter_47', 'counter_48',\n",
              "       'counter_49', 'counter_50', 'counter_51'],\n",
              "      dtype='object')"
            ]
          },
          "metadata": {
            "tags": []
          },
          "execution_count": 25
        }
      ]
    },
    {
      "cell_type": "markdown",
      "metadata": {
        "id": "Ed3QACMJIbwo",
        "colab_type": "text"
      },
      "source": [
        "#Normalization\n",
        "each feature contain diffierent range of number which make learning process hard ,so we normalize each features to be between 0 and 1 ."
      ]
    },
    {
      "cell_type": "code",
      "metadata": {
        "id": "Jn0eYllwu3o2",
        "colab_type": "code",
        "colab": {}
      },
      "source": [
        "\n",
        "scaler = MinMaxScaler()\n",
        "X_scaled=scaler.fit_transform(X_selected)"
      ],
      "execution_count": 0,
      "outputs": []
    },
    {
      "cell_type": "code",
      "metadata": {
        "id": "7HHKGFRUu3J1",
        "colab_type": "code",
        "colab": {
          "base_uri": "https://localhost:8080/",
          "height": 272
        },
        "outputId": "58b7e86f-c4bd-4782-c290-5f9034e58354"
      },
      "source": [
        "X_scaled[0]"
      ],
      "execution_count": 27,
      "outputs": [
        {
          "output_type": "execute_result",
          "data": {
            "text/plain": [
              "array([1.50054547e-01, 0.00000000e+00, 6.44795597e-03, 2.71507644e-03,\n",
              "       1.84603246e-02, 7.45547362e-04, 4.05286197e-02, 2.16108684e-02,\n",
              "       1.98670136e-03, 6.95299774e-05, 1.00079388e-02, 1.32798532e-03,\n",
              "       1.61873973e-02, 2.36481160e-03, 3.73438745e-02, 9.39926181e-04,\n",
              "       8.40470359e-04, 1.62135043e-04, 3.98084054e-04, 2.10965231e-02,\n",
              "       2.48373052e-02, 5.39358575e-04, 3.15739700e-02, 2.03985467e-02,\n",
              "       2.59110704e-03, 3.82838056e-01, 2.74434426e-02, 8.42660656e-03,\n",
              "       2.64293904e-03, 2.10718725e-02, 3.04830686e-03, 1.43887288e-02,\n",
              "       1.32962377e-02, 3.11771630e-02, 1.44092703e-02, 2.18394173e-02,\n",
              "       3.16301703e-02, 1.45986944e-01, 7.29350000e-02, 4.33774216e-02,\n",
              "       2.86112971e-02, 9.99722022e-01, 9.99722022e-01, 3.54642646e-02,\n",
              "       2.81178160e-02, 7.83952041e-03, 9.99722299e-01, 8.00000000e-01,\n",
              "       8.00000000e-01, 3.33333333e-01, 2.65037447e-02, 1.69247389e-02,\n",
              "       2.94088077e-02])"
            ]
          },
          "metadata": {
            "tags": []
          },
          "execution_count": 27
        }
      ]
    },
    {
      "cell_type": "markdown",
      "metadata": {
        "id": "yTlveOtGJAa-",
        "colab_type": "text"
      },
      "source": [
        "# split X,Y to training data and test data "
      ]
    },
    {
      "cell_type": "code",
      "metadata": {
        "id": "GPbpWiirvh62",
        "colab_type": "code",
        "colab": {}
      },
      "source": [
        "\n",
        "X_train, X_test, y_train, y_test = train_test_split(X_scaled, Y, test_size=0.2, random_state=42)"
      ],
      "execution_count": 0,
      "outputs": []
    },
    {
      "cell_type": "code",
      "metadata": {
        "id": "elrQvgvuCeWK",
        "colab_type": "code",
        "colab": {
          "base_uri": "https://localhost:8080/",
          "height": 35
        },
        "outputId": "d4da9b59-c01c-4322-d680-2ab273e6e950"
      },
      "source": [
        "len(X_train)"
      ],
      "execution_count": 29,
      "outputs": [
        {
          "output_type": "execute_result",
          "data": {
            "text/plain": [
              "321657"
            ]
          },
          "metadata": {
            "tags": []
          },
          "execution_count": 29
        }
      ]
    },
    {
      "cell_type": "markdown",
      "metadata": {
        "id": "hIEaf0nNm2kF",
        "colab_type": "text"
      },
      "source": [
        "#machine learning model "
      ]
    },
    {
      "cell_type": "code",
      "metadata": {
        "id": "IEMbP8ePmA3s",
        "colab_type": "code",
        "colab": {
          "base_uri": "https://localhost:8080/",
          "height": 110
        },
        "outputId": "03660558-4b30-4399-ba7c-5305ddfb8ed1"
      },
      "source": [
        "## try  LogisticRegression model \n",
        "log=LogisticRegression().fit(X_train,y_train)"
      ],
      "execution_count": 30,
      "outputs": [
        {
          "output_type": "stream",
          "text": [
            "/usr/local/lib/python3.6/dist-packages/sklearn/linear_model/logistic.py:432: FutureWarning: Default solver will be changed to 'lbfgs' in 0.22. Specify a solver to silence this warning.\n",
            "  FutureWarning)\n",
            "/usr/local/lib/python3.6/dist-packages/sklearn/linear_model/logistic.py:469: FutureWarning: Default multi_class will be changed to 'auto' in 0.22. Specify the multi_class option to silence this warning.\n",
            "  \"this warning.\", FutureWarning)\n"
          ],
          "name": "stderr"
        }
      ]
    },
    {
      "cell_type": "code",
      "metadata": {
        "id": "aDfKljBPmA0f",
        "colab_type": "code",
        "colab": {
          "base_uri": "https://localhost:8080/",
          "height": 35
        },
        "outputId": "3fd7bd18-15ef-4a8d-80e1-a0755f7fcccb"
      },
      "source": [
        "## get accuracy \n",
        "log_pred=log.predict(X_test)\n",
        "log_acc=accuracy_score(y_test,log_pred)\n",
        "print('Accuracy Of LogisticRegression is : {}'.format(log_acc))"
      ],
      "execution_count": 31,
      "outputs": [
        {
          "output_type": "stream",
          "text": [
            "Accuracy Of LogisticRegression is : 0.43529192314866627\n"
          ],
          "name": "stdout"
        }
      ]
    },
    {
      "cell_type": "code",
      "metadata": {
        "id": "cVMFGnITmAxR",
        "colab_type": "code",
        "colab": {}
      },
      "source": [
        "##try   KNeighborsClassifier classifier\n",
        "from sklearn.neighbors import KNeighborsClassifier\n",
        "knn= KNeighborsClassifier(n_neighbors=5)\n",
        "knn.fit(X_train, y_train) \n",
        "knn_pred=knn.predict(X_test)\n",
        "knn_acc=accuracy_score(y_test,knn_pred)\n"
      ],
      "execution_count": 0,
      "outputs": []
    },
    {
      "cell_type": "code",
      "metadata": {
        "id": "01LXnP8zjS_E",
        "colab_type": "code",
        "colab": {
          "base_uri": "https://localhost:8080/",
          "height": 35
        },
        "outputId": "b6f4709f-20b7-4000-fd2a-7c9afea3a9d2"
      },
      "source": [
        "print('Accuracy f  KNeighborsClassifier is : {}'.format(knn_acc))"
      ],
      "execution_count": 33,
      "outputs": [
        {
          "output_type": "stream",
          "text": [
            "Accuracy f  KNeighborsClassifier is : 0.6741155257103775\n"
          ],
          "name": "stdout"
        }
      ]
    },
    {
      "cell_type": "code",
      "metadata": {
        "id": "d_H48wZ1nGId",
        "colab_type": "code",
        "colab": {}
      },
      "source": [
        "## try RandomForestClassifier model \n",
        "clf = RandomForestClassifier(n_estimators=500, max_depth=100,\n",
        "                             n_jobs = -1 ) ## define classifier "
      ],
      "execution_count": 0,
      "outputs": []
    },
    {
      "cell_type": "code",
      "metadata": {
        "id": "rNFZurESnKtS",
        "colab_type": "code",
        "colab": {
          "base_uri": "https://localhost:8080/",
          "height": 145
        },
        "outputId": "a99ee8a5-99e5-4cfa-a16c-242cc8cde224"
      },
      "source": [
        "clf.fit(X_train,y_train)  ## fit classifier on training data"
      ],
      "execution_count": 35,
      "outputs": [
        {
          "output_type": "execute_result",
          "data": {
            "text/plain": [
              "RandomForestClassifier(bootstrap=True, class_weight=None, criterion='gini',\n",
              "                       max_depth=100, max_features='auto', max_leaf_nodes=None,\n",
              "                       min_impurity_decrease=0.0, min_impurity_split=None,\n",
              "                       min_samples_leaf=1, min_samples_split=2,\n",
              "                       min_weight_fraction_leaf=0.0, n_estimators=500,\n",
              "                       n_jobs=-1, oob_score=False, random_state=None, verbose=0,\n",
              "                       warm_start=False)"
            ]
          },
          "metadata": {
            "tags": []
          },
          "execution_count": 35
        }
      ]
    },
    {
      "cell_type": "code",
      "metadata": {
        "id": "XRkJmh20nRyE",
        "colab_type": "code",
        "colab": {}
      },
      "source": [
        "## get predictions \n",
        "predictions=clf.predict(X_test)"
      ],
      "execution_count": 0,
      "outputs": []
    },
    {
      "cell_type": "code",
      "metadata": {
        "id": "3tBD2BzutBf9",
        "colab_type": "code",
        "colab": {
          "base_uri": "https://localhost:8080/",
          "height": 35
        },
        "outputId": "e11b270a-0f51-49de-98ff-3f69549327eb"
      },
      "source": [
        "## get accuracy\n",
        "acc=accuracy_score(y_test,predictions)\n",
        "print('Accuracy Of RandomForestClassifier  is : {}'.format(acc))"
      ],
      "execution_count": 37,
      "outputs": [
        {
          "output_type": "stream",
          "text": [
            "Accuracy Of RandomForestClassifier  is : 0.6451159609525586\n"
          ],
          "name": "stdout"
        }
      ]
    },
    {
      "cell_type": "markdown",
      "metadata": {
        "id": "nbHOi4dmQr09",
        "colab_type": "text"
      },
      "source": [
        "#Because we have imblance data we should use any metrics other than accuaracy "
      ]
    },
    {
      "cell_type": "code",
      "metadata": {
        "id": "Mwoq8dqcJxuN",
        "colab_type": "code",
        "colab": {}
      },
      "source": [
        "### confusin matrix\n",
        "\n",
        "from sklearn.metrics import confusion_matrix\n",
        "cm=confusion_matrix(y_test, predictions)\n"
      ],
      "execution_count": 0,
      "outputs": []
    },
    {
      "cell_type": "code",
      "metadata": {
        "id": "i25quFBRLCOG",
        "colab_type": "code",
        "colab": {
          "base_uri": "https://localhost:8080/",
          "height": 1000
        },
        "outputId": "33c7da3d-7476-4111-ec74-b4104720dc59"
      },
      "source": [
        "### plot confusin matrix\n",
        "import seaborn as sn\n",
        "import matplotlib.pyplot as plt\n",
        "%matplotlib inline\n",
        "plt.figure(figsize = (20,20))\n",
        "sn.heatmap(cm, annot=True,fmt='d',cmap='Blues')"
      ],
      "execution_count": 39,
      "outputs": [
        {
          "output_type": "execute_result",
          "data": {
            "text/plain": [
              "<matplotlib.axes._subplots.AxesSubplot at 0x7fdddb7a6668>"
            ]
          },
          "metadata": {
            "tags": []
          },
          "execution_count": 39
        },
        {
          "output_type": "display_data",
          "data": {
            "image/png": "[encoded data removed]",
            "text/plain": [
              "<Figure size 1440x1440 with 2 Axes>"
            ]
          },
          "metadata": {
            "tags": []
          }
        }
      ]
    },
    {
      "cell_type": "code",
      "metadata": {
        "id": "6VcgsWW3xsTU",
        "colab_type": "code",
        "colab": {
          "base_uri": "https://localhost:8080/",
          "height": 145
        },
        "outputId": "7d30e9e2-1d00-4a23-cf53-32ff081094da"
      },
      "source": [
        "### try XGBClassifier\n",
        "xgb = XGBClassifier()\n",
        "xgb.fit(X_train, y_train)"
      ],
      "execution_count": 40,
      "outputs": [
        {
          "output_type": "execute_result",
          "data": {
            "text/plain": [
              "XGBClassifier(base_score=0.5, booster='gbtree', colsample_bylevel=1,\n",
              "              colsample_bynode=1, colsample_bytree=1, gamma=0,\n",
              "              learning_rate=0.1, max_delta_step=0, max_depth=3,\n",
              "              min_child_weight=1, missing=None, n_estimators=100, n_jobs=1,\n",
              "              nthread=None, objective='multi:softprob', random_state=0,\n",
              "              reg_alpha=0, reg_lambda=1, scale_pos_weight=1, seed=None,\n",
              "              silent=None, subsample=1, verbosity=1)"
            ]
          },
          "metadata": {
            "tags": []
          },
          "execution_count": 40
        }
      ]
    },
    {
      "cell_type": "code",
      "metadata": {
        "id": "ya_oh0AE3LQA",
        "colab_type": "code",
        "colab": {
          "base_uri": "https://localhost:8080/",
          "height": 35
        },
        "outputId": "d72d2175-9f4e-49d1-9b41-4f25c426aa07"
      },
      "source": [
        "## get accuracy\n",
        "xgb_predictions=xgb.predict(X_test)\n",
        "acc=accuracy_score(y_test,xgb_predictions)\n",
        "print('Accuracy Of XGBClassifier  is : {}'.format(acc))"
      ],
      "execution_count": 41,
      "outputs": [
        {
          "output_type": "stream",
          "text": [
            "Accuracy Of XGBClassifier  is : 0.5016103960703848\n"
          ],
          "name": "stdout"
        }
      ]
    },
    {
      "cell_type": "markdown",
      "metadata": {
        "id": "YZvoVZHz3h40",
        "colab_type": "text"
      },
      "source": [
        "# deep learning model "
      ]
    },
    {
      "cell_type": "code",
      "metadata": {
        "id": "TA_OzewT3gCI",
        "colab_type": "code",
        "colab": {
          "base_uri": "https://localhost:8080/",
          "height": 237
        },
        "outputId": "31b8ff8f-dfbd-497a-85a7-4d328f0a1833"
      },
      "source": [
        "## build model \n",
        "model=keras.models.Sequential()\n",
        "model.add(keras.layers.Dense(units=128,activation='relu',input_shape=(53,)))\n",
        "model.add(keras.layers.Dropout(.2))\n",
        "model.add(keras.layers.Dense(units=128,activation='relu'))\n",
        "model.add(keras.layers.Dropout(.2))\n",
        "model.add(keras.layers.Dense(units=128,activation='relu'))\n",
        "model.add(keras.layers.Dropout(.2))\n",
        "model.add(keras.layers.Dense(units=256,activation='relu'))\n",
        "model.add(keras.layers.Dropout(.2))\n",
        "model.add(keras.layers.Dense(units=256,activation='relu'))\n",
        "model.add(keras.layers.Dropout(.2))\n",
        "model.add(keras.layers.Dense(units=256,activation='relu'))\n",
        "model.add(keras.layers.Dropout(.2))\n",
        "model.add(keras.layers.Dense(units=512,activation='relu'))\n",
        "model.add(keras.layers.Dropout(.2))\n",
        "model.add(keras.layers.Dense(units=512,activation='relu'))\n",
        "model.add(keras.layers.Dropout(.2))\n",
        "model.add(keras.layers.Dense(units=13,activation='softmax'))\n",
        "\n"
      ],
      "execution_count": 42,
      "outputs": [
        {
          "output_type": "stream",
          "text": [
            "WARNING:tensorflow:From /usr/local/lib/python3.6/dist-packages/keras/backend/tensorflow_backend.py:66: The name tf.get_default_graph is deprecated. Please use tf.compat.v1.get_default_graph instead.\n",
            "\n",
            "WARNING:tensorflow:From /usr/local/lib/python3.6/dist-packages/keras/backend/tensorflow_backend.py:541: The name tf.placeholder is deprecated. Please use tf.compat.v1.placeholder instead.\n",
            "\n",
            "WARNING:tensorflow:From /usr/local/lib/python3.6/dist-packages/keras/backend/tensorflow_backend.py:4432: The name tf.random_uniform is deprecated. Please use tf.random.uniform instead.\n",
            "\n",
            "WARNING:tensorflow:From /usr/local/lib/python3.6/dist-packages/keras/backend/tensorflow_backend.py:148: The name tf.placeholder_with_default is deprecated. Please use tf.compat.v1.placeholder_with_default instead.\n",
            "\n",
            "WARNING:tensorflow:From /usr/local/lib/python3.6/dist-packages/keras/backend/tensorflow_backend.py:3733: calling dropout (from tensorflow.python.ops.nn_ops) with keep_prob is deprecated and will be removed in a future version.\n",
            "Instructions for updating:\n",
            "Please use `rate` instead of `keep_prob`. Rate should be set to `rate = 1 - keep_prob`.\n"
          ],
          "name": "stdout"
        }
      ]
    },
    {
      "cell_type": "code",
      "metadata": {
        "id": "rRCMdRMe3vJs",
        "colab_type": "code",
        "colab": {
          "base_uri": "https://localhost:8080/",
          "height": 110
        },
        "outputId": "4f6d3f85-7ba0-4ede-ad9d-e269449224ff"
      },
      "source": [
        "### compile model \n",
        "model.compile(optimizer='rmsprop',loss='categorical_crossentropy',metrics=['categorical_accuracy'])"
      ],
      "execution_count": 43,
      "outputs": [
        {
          "output_type": "stream",
          "text": [
            "WARNING:tensorflow:From /usr/local/lib/python3.6/dist-packages/keras/optimizers.py:793: The name tf.train.Optimizer is deprecated. Please use tf.compat.v1.train.Optimizer instead.\n",
            "\n",
            "WARNING:tensorflow:From /usr/local/lib/python3.6/dist-packages/keras/backend/tensorflow_backend.py:3576: The name tf.log is deprecated. Please use tf.math.log instead.\n",
            "\n"
          ],
          "name": "stdout"
        }
      ]
    },
    {
      "cell_type": "code",
      "metadata": {
        "id": "YR9yH7tH32xb",
        "colab_type": "code",
        "colab": {}
      },
      "source": [
        "### make target to one hot vector\n",
        "y_train_cat=to_categorical(y_train,num_classes=13)\n",
        "y_test_cat=to_categorical(y_test,num_classes=13)\n"
      ],
      "execution_count": 0,
      "outputs": []
    },
    {
      "cell_type": "code",
      "metadata": {
        "id": "YmXhiMwn4GVo",
        "colab_type": "code",
        "colab": {
          "base_uri": "https://localhost:8080/",
          "height": 765
        },
        "outputId": "4cafdfc4-cf79-45e9-eddf-d69019cad078"
      },
      "source": [
        "## fit model \n",
        "model.fit(X_train,y_train_cat,epochs=10,batch_size=64,shuffle=True)\n"
      ],
      "execution_count": 45,
      "outputs": [
        {
          "output_type": "stream",
          "text": [
            "WARNING:tensorflow:From /usr/local/lib/python3.6/dist-packages/tensorflow_core/python/ops/math_grad.py:1424: where (from tensorflow.python.ops.array_ops) is deprecated and will be removed in a future version.\n",
            "Instructions for updating:\n",
            "Use tf.where in 2.0, which has the same broadcast rule as np.where\n",
            "WARNING:tensorflow:From /usr/local/lib/python3.6/dist-packages/keras/backend/tensorflow_backend.py:1033: The name tf.assign_add is deprecated. Please use tf.compat.v1.assign_add instead.\n",
            "\n",
            "WARNING:tensorflow:From /usr/local/lib/python3.6/dist-packages/keras/backend/tensorflow_backend.py:1020: The name tf.assign is deprecated. Please use tf.compat.v1.assign instead.\n",
            "\n",
            "WARNING:tensorflow:From /usr/local/lib/python3.6/dist-packages/keras/backend/tensorflow_backend.py:3005: The name tf.Session is deprecated. Please use tf.compat.v1.Session instead.\n",
            "\n",
            "Epoch 1/10\n",
            "WARNING:tensorflow:From /usr/local/lib/python3.6/dist-packages/keras/backend/tensorflow_backend.py:190: The name tf.get_default_session is deprecated. Please use tf.compat.v1.get_default_session instead.\n",
            "\n",
            "WARNING:tensorflow:From /usr/local/lib/python3.6/dist-packages/keras/backend/tensorflow_backend.py:197: The name tf.ConfigProto is deprecated. Please use tf.compat.v1.ConfigProto instead.\n",
            "\n",
            "WARNING:tensorflow:From /usr/local/lib/python3.6/dist-packages/keras/backend/tensorflow_backend.py:207: The name tf.global_variables is deprecated. Please use tf.compat.v1.global_variables instead.\n",
            "\n",
            "WARNING:tensorflow:From /usr/local/lib/python3.6/dist-packages/keras/backend/tensorflow_backend.py:216: The name tf.is_variable_initialized is deprecated. Please use tf.compat.v1.is_variable_initialized instead.\n",
            "\n",
            "WARNING:tensorflow:From /usr/local/lib/python3.6/dist-packages/keras/backend/tensorflow_backend.py:223: The name tf.variables_initializer is deprecated. Please use tf.compat.v1.variables_initializer instead.\n",
            "\n",
            "321657/321657 [==============================] - 43s 135us/step - loss: 1.5850 - categorical_accuracy: 0.4279\n",
            "Epoch 2/10\n",
            "321657/321657 [==============================] - 38s 118us/step - loss: 1.5764 - categorical_accuracy: 0.4310\n",
            "Epoch 3/10\n",
            "321657/321657 [==============================] - 38s 118us/step - loss: 1.5773 - categorical_accuracy: 0.4315\n",
            "Epoch 4/10\n",
            "321657/321657 [==============================] - 38s 118us/step - loss: 1.5774 - categorical_accuracy: 0.4320\n",
            "Epoch 5/10\n",
            "321657/321657 [==============================] - 38s 120us/step - loss: 1.5782 - categorical_accuracy: 0.4317\n",
            "Epoch 6/10\n",
            "321657/321657 [==============================] - 38s 117us/step - loss: 1.5828 - categorical_accuracy: 0.4317\n",
            "Epoch 7/10\n",
            "321657/321657 [==============================] - 38s 117us/step - loss: 1.5879 - categorical_accuracy: 0.4316\n",
            "Epoch 8/10\n",
            "321657/321657 [==============================] - 38s 117us/step - loss: 1.5939 - categorical_accuracy: 0.4318\n",
            "Epoch 9/10\n",
            "321657/321657 [==============================] - 38s 117us/step - loss: 1.5837 - categorical_accuracy: 0.4320\n",
            "Epoch 10/10\n",
            "321657/321657 [==============================] - 38s 118us/step - loss: 1.5899 - categorical_accuracy: 0.4323\n"
          ],
          "name": "stdout"
        },
        {
          "output_type": "execute_result",
          "data": {
            "text/plain": [
              "<keras.callbacks.History at 0x7fdd68eed5c0>"
            ]
          },
          "metadata": {
            "tags": []
          },
          "execution_count": 45
        }
      ]
    },
    {
      "cell_type": "code",
      "metadata": {
        "id": "y9bYtATY4Nq4",
        "colab_type": "code",
        "colab": {
          "base_uri": "https://localhost:8080/",
          "height": 54
        },
        "outputId": "0ae29fa2-bb4f-4e65-a0f8-1ed3a4ad9a3a"
      },
      "source": [
        "## evaluate model on test data \n",
        "model.evaluate(X_test,y_test_cat)\n"
      ],
      "execution_count": 46,
      "outputs": [
        {
          "output_type": "stream",
          "text": [
            "80415/80415 [==============================] - 4s 53us/step\n"
          ],
          "name": "stdout"
        },
        {
          "output_type": "execute_result",
          "data": {
            "text/plain": [
              "[1.5712977856180823, 0.4340359385649689]"
            ]
          },
          "metadata": {
            "tags": []
          },
          "execution_count": 46
        }
      ]
    },
    {
      "cell_type": "code",
      "metadata": {
        "id": "JxsilRIB7QMN",
        "colab_type": "code",
        "colab": {
          "base_uri": "https://localhost:8080/",
          "height": 35
        },
        "outputId": "86d0051d-4890-428d-de5c-070bf7933d2d"
      },
      "source": [
        "np.argmax(model.predict([X_test[0].reshape(-1,53)]))"
      ],
      "execution_count": 47,
      "outputs": [
        {
          "output_type": "execute_result",
          "data": {
            "text/plain": [
              "11"
            ]
          },
          "metadata": {
            "tags": []
          },
          "execution_count": 47
        }
      ]
    },
    {
      "cell_type": "code",
      "metadata": {
        "id": "Qh8Dcbt79uZk",
        "colab_type": "code",
        "colab": {
          "base_uri": "https://localhost:8080/",
          "height": 35
        },
        "outputId": "aa33f971-2b8c-468e-ffb6-0f53b81459df"
      },
      "source": [
        "np.argmax(y_test_cat[0])"
      ],
      "execution_count": 48,
      "outputs": [
        {
          "output_type": "execute_result",
          "data": {
            "text/plain": [
              "11"
            ]
          },
          "metadata": {
            "tags": []
          },
          "execution_count": 48
        }
      ]
    },
    {
      "cell_type": "code",
      "metadata": {
        "id": "-uCUJM-ui5S4",
        "colab_type": "code",
        "colab": {}
      },
      "source": [
        ""
      ],
      "execution_count": 0,
      "outputs": []
    }
  ]
}