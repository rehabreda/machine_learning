{
 "cells": [
  {
   "cell_type": "code",
   "execution_count": 1,
   "metadata": {
    "collapsed": true
   },
   "outputs": [],
   "source": [
    "import numpy as np\n",
    "import pandas as pd \n",
    "from sklearn import  preprocessing , cross_validation , neighbors\n",
    "\n"
   ]
  },
  {
   "cell_type": "code",
   "execution_count": 2,
   "metadata": {
    "collapsed": false
   },
   "outputs": [
    {
     "name": "stdout",
     "output_type": "stream",
     "text": [
      "0.978571428571\n"
     ]
    }
   ],
   "source": [
    "#k_neighbor\n",
    "\n",
    "df=pd.read_csv(r\"C:\\Users\\rehab\\Desktop\\breast-cancer.txt\")\n",
    "\n",
    "\n",
    "\n",
    "df.replace('?',-99999, inplace=True)\n",
    "\n",
    "df.drop(['id'],1,inplace=True)\n",
    "\n",
    "x = np.array(df.drop(['class'], 1))\n",
    "y = np.array(df['class'])\n",
    "\n",
    "x_train,x_test,y_train,y_test=cross_validation.train_test_split(x,y,test_size=.2)\n",
    "clf=neighbors.KNeighborsClassifier()\n",
    "clf.fit(x_train,y_train)\n",
    "accuracy=clf.score(x_test,y_test)\n",
    "\n",
    "print(accuracy)\n"
   ]
  },
  {
   "cell_type": "code",
   "execution_count": 3,
   "metadata": {
    "collapsed": false
   },
   "outputs": [
    {
     "name": "stdout",
     "output_type": "stream",
     "text": [
      "[2]\n"
     ]
    },
    {
     "name": "stderr",
     "output_type": "stream",
     "text": [
      "C:\\Users\\rehab\\Anaconda3\\lib\\site-packages\\sklearn\\utils\\validation.py:386: DeprecationWarning: Passing 1d arrays as data is deprecated in 0.17 and willraise ValueError in 0.19. Reshape your data either using X.reshape(-1, 1) if your data has a single feature or X.reshape(1, -1) if it contains a single sample.\n",
      "  DeprecationWarning)\n"
     ]
    }
   ],
   "source": [
    "#prediction\n",
    "m=np.array([4,2,1,1,1,2,3,2,1])\n",
    "print(clf.predict(m))"
   ]
  },
  {
   "cell_type": "code",
   "execution_count": 4,
   "metadata": {
    "collapsed": false
   },
   "outputs": [
    {
     "data": {
      "image/png": "[encoded data removed]",
      "text/plain": [
       "<matplotlib.figure.Figure at 0x8df28b0>"
      ]
     },
     "metadata": {},
     "output_type": "display_data"
    }
   ],
   "source": [
    "import matplotlib.pyplot as plt\n",
    "import warnings\n",
    "from math import sqrt\n",
    "from collections import Counter\n",
    "%matplotlib inline\n",
    "\n",
    "dataset={'k':[[1,2],[2,3],[3,1]],'r':[[6,5],[7,7],[8,6]]}\n",
    "new_features = [5,7]\n",
    "[[plt.scatter(ii[0],ii[1],s=100 ,color=i)   for ii in dataset[i] ] for i in dataset]\n",
    "plt.show()\n"
   ]
  },
  {
   "cell_type": "code",
   "execution_count": 39,
   "metadata": {
    "collapsed": false
   },
   "outputs": [
    {
     "name": "stdout",
     "output_type": "stream",
     "text": [
      "r\n"
     ]
    }
   ],
   "source": [
    "def k_nearest_neighbors(data,predict,k=3):\n",
    "    if len(data)>= k:\n",
    "        warnings.warn('K is set to a value less than total voting groups!')\n",
    "    distances=[]\n",
    "    for group in data:\n",
    "        for feature in data[group]:\n",
    "            euclidean_distance=np.linalg.norm(np.array(feature)-np.array(predict))\n",
    "            distances.append([euclidean_distance,group])\n",
    "    #print(distances)\n",
    "    #print(sorted(distances)[:k])\n",
    "    votes = [i[1] for i in sorted(distances)[:k]]\n",
    "    #print(votes)\n",
    "    vote_result = Counter(votes).most_common(1)[0][0]\n",
    "    return vote_result\n",
    "\n",
    "\n",
    "result = k_nearest_neighbors(dataset, new_features,3)\n",
    "print(result)\n",
    "        \n",
    "        "
   ]
  },
  {
   "cell_type": "code",
   "execution_count": 41,
   "metadata": {
    "collapsed": false
   },
   "outputs": [
    {
     "name": "stdout",
     "output_type": "stream",
     "text": [
      "0.956989247311828\n"
     ]
    }
   ],
   "source": [
    "import random\n",
    "full_data=df.astype(float).values.tolist()\n",
    "random.shuffle(full_data)\n",
    "size_test=.4\n",
    "train_set={2:[],4:[]}\n",
    "test_set={2:[],4:[]}\n",
    "train_data=full_data[:-int(size_test*len(full_data))]\n",
    "test_data=full_data[-int(size_test*len(full_data)):]\n",
    "\n",
    "for i in train_data:\n",
    "    train_set[i[-1]].append(i[:-1])\n",
    "    \n",
    "for i in test_data:\n",
    "    test_set[i[-1]].append(i[:-1]) \n",
    "    \n",
    "correct=0\n",
    "total=0\n",
    "for group in test_set:\n",
    "    for data in  test_set[group]:\n",
    "        vote=k_nearest_neighbors(train_set,data ,k=5)\n",
    "        if vote==group:\n",
    "            correct+=1\n",
    "        total+=1\n",
    "        \n",
    "        \n",
    "print(correct/total)    \n",
    "                           \n",
    "\n"
   ]
  },
  {
   "cell_type": "code",
   "execution_count": null,
   "metadata": {
    "collapsed": true
   },
   "outputs": [],
   "source": []
  }
 ],
 "metadata": {
  "kernelspec": {
   "display_name": "Python [conda root]",
   "language": "python",
   "name": "conda-root-py"
  },
  "language_info": {
   "codemirror_mode": {
    "name": "ipython",
    "version": 3
   },
   "file_extension": ".py",
   "mimetype": "text/x-python",
   "name": "python",
   "nbconvert_exporter": "python",
   "pygments_lexer": "ipython3",
   "version": "3.5.2"
  }
 },
 "nbformat": 4,
 "nbformat_minor": 1
}
