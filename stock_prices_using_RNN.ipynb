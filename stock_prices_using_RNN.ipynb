{
  "nbformat": 4,
  "nbformat_minor": 0,
  "metadata": {
    "colab": {
      "name": "stock prices using RNN.ipynb",
      "version": "0.3.2",
      "provenance": [],
      "collapsed_sections": [],
      "include_colab_link": true
    },
    "kernelspec": {
      "name": "python3",
      "display_name": "Python 3"
    },
    "accelerator": "GPU"
  },
  "cells": [
    {
      "cell_type": "markdown",
      "metadata": {
        "id": "view-in-github",
        "colab_type": "text"
      },
      "source": [
        "[View in Colaboratory](https://colab.research.google.com/github/rehabreda/machine_learning/blob/master/stock_prices_using_RNN.ipynb)"
      ]
    },
    {
      "metadata": {
        "id": "D8xJ6sWZ6HoE",
        "colab_type": "code",
        "colab": {}
      },
      "cell_type": "code",
      "source": [
        "import numpy as np\n",
        "import pandas as pd\n",
        "import matplotlib.pyplot as plt\n",
        "%matplotlib inline"
      ],
      "execution_count": 0,
      "outputs": []
    },
    {
      "metadata": {
        "id": "HqKtW41gBkxU",
        "colab_type": "code",
        "colab": {
          "resources": {
            "http://localhost:8080/nbextensions/google.colab/files.js": {
              "data": "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",
              "ok": true,
              "headers": [
                [
                  "content-type",
                  "application/javascript"
                ]
              ],
              "status": 200,
              "status_text": ""
            }
          },
          "base_uri": "https://localhost:8080/",
          "height": 89
        },
        "outputId": "127592f5-2d33-44d3-80c5-05c048d5991f"
      },
      "cell_type": "code",
      "source": [
        "from google.colab import files\n",
        "\n",
        "uploaded = files.upload()\n",
        "\n",
        "for fn in uploaded.keys():\n",
        "  print('User uploaded file \"{name}\" with length {length} bytes'.format(\n",
        "      name=fn, length=len(uploaded[fn])))"
      ],
      "execution_count": 4,
      "outputs": [
        {
          "output_type": "display_data",
          "data": {
            "text/html": [
              "\n",
              "     <input type=\"file\" id=\"files-dfd6c0bb-523c-4f1c-8d57-043d5267e780\" name=\"files[]\" multiple disabled />\n",
              "     <output id=\"result-dfd6c0bb-523c-4f1c-8d57-043d5267e780\">\n",
              "      Upload widget is only available when the cell has been executed in the\n",
              "      current browser session. Please rerun this cell to enable.\n",
              "      </output>\n",
              "      <script src=\"/nbextensions/google.colab/files.js\"></script> "
            ],
            "text/plain": [
              "<IPython.core.display.HTML object>"
            ]
          },
          "metadata": {
            "tags": []
          }
        },
        {
          "output_type": "stream",
          "text": [
            "Saving Google_Stock_Price_Train.csv to Google_Stock_Price_Train (1).csv\n",
            "User uploaded file \"Google_Stock_Price_Train.csv\" with length 63488 bytes\n"
          ],
          "name": "stdout"
        }
      ]
    },
    {
      "metadata": {
        "id": "fKggTgXdDOcB",
        "colab_type": "code",
        "colab": {}
      },
      "cell_type": "code",
      "source": [
        "training_set=pd.read_csv(\"Google_Stock_Price_Train.csv\")"
      ],
      "execution_count": 0,
      "outputs": []
    },
    {
      "metadata": {
        "id": "Y1Ea8musDrGP",
        "colab_type": "code",
        "colab": {}
      },
      "cell_type": "code",
      "source": [
        "training_set=training_set.iloc[:,1:2].values"
      ],
      "execution_count": 0,
      "outputs": []
    },
    {
      "metadata": {
        "id": "f8VSYC6Vgua_",
        "colab_type": "code",
        "colab": {
          "base_uri": "https://localhost:8080/",
          "height": 34
        },
        "outputId": "ac68c786-95c2-450f-a9b3-e215d6c6d334"
      },
      "cell_type": "code",
      "source": [
        "training_set.shape"
      ],
      "execution_count": 46,
      "outputs": [
        {
          "output_type": "execute_result",
          "data": {
            "text/plain": [
              "(1258, 1)"
            ]
          },
          "metadata": {
            "tags": []
          },
          "execution_count": 46
        }
      ]
    },
    {
      "metadata": {
        "id": "NqyrlsmvD9hp",
        "colab_type": "code",
        "colab": {}
      },
      "cell_type": "code",
      "source": [
        "# feature scaling \n",
        "from sklearn.preprocessing import MinMaxScaler\n",
        "sc=MinMaxScaler()\n",
        "training_set=sc.fit_transform(training_set)"
      ],
      "execution_count": 0,
      "outputs": []
    },
    {
      "metadata": {
        "id": "xQY_-V3eFOMx",
        "colab_type": "code",
        "colab": {
          "base_uri": "https://localhost:8080/",
          "height": 136
        },
        "outputId": "9b498568-11ee-4282-c08d-43dcd04c7b2a"
      },
      "cell_type": "code",
      "source": [
        "training_set"
      ],
      "execution_count": 14,
      "outputs": [
        {
          "output_type": "execute_result",
          "data": {
            "text/plain": [
              "array([[0.08581368],\n",
              "       [0.09701243],\n",
              "       [0.09433366],\n",
              "       ...,\n",
              "       [0.95725128],\n",
              "       [0.93796041],\n",
              "       [0.93688146]])"
            ]
          },
          "metadata": {
            "tags": []
          },
          "execution_count": 14
        }
      ]
    },
    {
      "metadata": {
        "id": "hZ0oIhbhFe0x",
        "colab_type": "code",
        "colab": {}
      },
      "cell_type": "code",
      "source": [
        "x_train=training_set[0:1257]\n",
        "y_train=training_set[1:1258]"
      ],
      "execution_count": 0,
      "outputs": []
    },
    {
      "metadata": {
        "id": "9qvol5NkHMBx",
        "colab_type": "code",
        "colab": {}
      },
      "cell_type": "code",
      "source": [
        "x_train=np.reshape(x_train,(1257,1,1))"
      ],
      "execution_count": 0,
      "outputs": []
    },
    {
      "metadata": {
        "id": "ej26Ji4BIegF",
        "colab_type": "code",
        "colab": {}
      },
      "cell_type": "code",
      "source": [
        "from keras.models import Sequential\n",
        "from keras.layers import Dense ,LSTM"
      ],
      "execution_count": 0,
      "outputs": []
    },
    {
      "metadata": {
        "id": "fNHf-hA8ItNk",
        "colab_type": "code",
        "colab": {}
      },
      "cell_type": "code",
      "source": [
        "regressor=Sequential()"
      ],
      "execution_count": 0,
      "outputs": []
    },
    {
      "metadata": {
        "id": "fxWZe-ngJqZR",
        "colab_type": "code",
        "colab": {}
      },
      "cell_type": "code",
      "source": [
        "regressor.add(LSTM(units=4,activation='sigmoid',input_shape=(None,1)))"
      ],
      "execution_count": 0,
      "outputs": []
    },
    {
      "metadata": {
        "id": "vz6AaSeTNcHt",
        "colab_type": "code",
        "colab": {}
      },
      "cell_type": "code",
      "source": [
        "regressor.add(Dense(units=1))"
      ],
      "execution_count": 0,
      "outputs": []
    },
    {
      "metadata": {
        "id": "9ol5nYZROLOr",
        "colab_type": "code",
        "colab": {}
      },
      "cell_type": "code",
      "source": [
        "regressor.compile(optimizer='adam',loss='mean_squared_error')"
      ],
      "execution_count": 0,
      "outputs": []
    },
    {
      "metadata": {
        "id": "zY-9XRZlUuiP",
        "colab_type": "code",
        "colab": {
          "base_uri": "https://localhost:8080/",
          "height": 6834
        },
        "outputId": "a498d2e6-6fad-4c40-b99a-22d231b1e633"
      },
      "cell_type": "code",
      "source": [
        "regressor.fit(x_train,y_train,batch_size=32,epochs=200)"
      ],
      "execution_count": 54,
      "outputs": [
        {
          "output_type": "stream",
          "text": [
            "Epoch 1/200\n",
            "1257/1257 [==============================] - 1s 695us/step - loss: 0.1684\n",
            "Epoch 2/200\n",
            "1257/1257 [==============================] - 0s 253us/step - loss: 0.1226\n",
            "Epoch 3/200\n",
            "1257/1257 [==============================] - 0s 247us/step - loss: 0.0946\n",
            "Epoch 4/200\n",
            "1257/1257 [==============================] - 0s 259us/step - loss: 0.0800\n",
            "Epoch 5/200\n",
            "1257/1257 [==============================] - 0s 275us/step - loss: 0.0729\n",
            "Epoch 6/200\n",
            "1257/1257 [==============================] - 0s 279us/step - loss: 0.0698\n",
            "Epoch 7/200\n",
            "1257/1257 [==============================] - 0s 279us/step - loss: 0.0684\n",
            "Epoch 8/200\n",
            "1257/1257 [==============================] - 0s 284us/step - loss: 0.0674\n",
            "Epoch 9/200\n",
            "1257/1257 [==============================] - 0s 281us/step - loss: 0.0665\n",
            "Epoch 10/200\n",
            "1257/1257 [==============================] - 0s 284us/step - loss: 0.0655\n",
            "Epoch 11/200\n",
            "1257/1257 [==============================] - 0s 285us/step - loss: 0.0644\n",
            "Epoch 12/200\n",
            "1257/1257 [==============================] - 0s 287us/step - loss: 0.0633\n",
            "Epoch 13/200\n",
            "1257/1257 [==============================] - 0s 280us/step - loss: 0.0622\n",
            "Epoch 14/200\n",
            "1257/1257 [==============================] - 0s 273us/step - loss: 0.0609\n",
            "Epoch 15/200\n",
            "1257/1257 [==============================] - 0s 281us/step - loss: 0.0596\n",
            "Epoch 16/200\n",
            "1257/1257 [==============================] - 0s 277us/step - loss: 0.0583\n",
            "Epoch 17/200\n",
            " 416/1257 [========>.....................] - ETA: 0s - loss: 0.0550"
          ],
          "name": "stdout"
        },
        {
          "output_type": "stream",
          "text": [
            "1257/1257 [==============================] - 0s 284us/step - loss: 0.0568\n",
            "Epoch 18/200\n",
            "1257/1257 [==============================] - 0s 282us/step - loss: 0.0554\n",
            "Epoch 19/200\n",
            "1257/1257 [==============================] - 0s 276us/step - loss: 0.0538\n",
            "Epoch 20/200\n",
            "1257/1257 [==============================] - 0s 277us/step - loss: 0.0521\n",
            "Epoch 21/200\n",
            "1257/1257 [==============================] - 0s 292us/step - loss: 0.0504\n",
            "Epoch 22/200\n",
            "1257/1257 [==============================] - 0s 282us/step - loss: 0.0486\n",
            "Epoch 23/200\n",
            "1257/1257 [==============================] - 0s 281us/step - loss: 0.0468\n",
            "Epoch 24/200\n",
            "1257/1257 [==============================] - 0s 275us/step - loss: 0.0448\n",
            "Epoch 25/200\n",
            "1257/1257 [==============================] - 0s 280us/step - loss: 0.0428\n",
            "Epoch 26/200\n",
            "1257/1257 [==============================] - 0s 280us/step - loss: 0.0408\n",
            "Epoch 27/200\n",
            "1257/1257 [==============================] - 0s 274us/step - loss: 0.0387\n",
            "Epoch 28/200\n",
            "1257/1257 [==============================] - 0s 283us/step - loss: 0.0366\n",
            "Epoch 29/200\n",
            "1257/1257 [==============================] - 0s 277us/step - loss: 0.0344\n",
            "Epoch 30/200\n",
            "1257/1257 [==============================] - 0s 275us/step - loss: 0.0322\n",
            "Epoch 31/200\n",
            "1257/1257 [==============================] - 0s 277us/step - loss: 0.0300\n",
            "Epoch 32/200\n",
            "1257/1257 [==============================] - 0s 285us/step - loss: 0.0279\n",
            "Epoch 33/200\n",
            " 416/1257 [========>.....................] - ETA: 0s - loss: 0.0259"
          ],
          "name": "stdout"
        },
        {
          "output_type": "stream",
          "text": [
            "1257/1257 [==============================] - 0s 281us/step - loss: 0.0257\n",
            "Epoch 34/200\n",
            "1257/1257 [==============================] - 0s 280us/step - loss: 0.0236\n",
            "Epoch 35/200\n",
            "1257/1257 [==============================] - 0s 276us/step - loss: 0.0215\n",
            "Epoch 36/200\n",
            "1257/1257 [==============================] - 0s 281us/step - loss: 0.0195\n",
            "Epoch 37/200\n",
            "1257/1257 [==============================] - 0s 275us/step - loss: 0.0176\n",
            "Epoch 38/200\n",
            "1257/1257 [==============================] - 0s 281us/step - loss: 0.0157\n",
            "Epoch 39/200\n",
            "1257/1257 [==============================] - 0s 280us/step - loss: 0.0140\n",
            "Epoch 40/200\n",
            "1257/1257 [==============================] - 0s 279us/step - loss: 0.0123\n",
            "Epoch 41/200\n",
            "1257/1257 [==============================] - 0s 278us/step - loss: 0.0108\n",
            "Epoch 42/200\n",
            "1257/1257 [==============================] - 0s 287us/step - loss: 0.0094\n",
            "Epoch 43/200\n",
            "1257/1257 [==============================] - 0s 275us/step - loss: 0.0082\n",
            "Epoch 44/200\n",
            "1257/1257 [==============================] - 0s 281us/step - loss: 0.0070\n",
            "Epoch 45/200\n",
            "1257/1257 [==============================] - 0s 286us/step - loss: 0.0060\n",
            "Epoch 46/200\n",
            "1257/1257 [==============================] - 0s 277us/step - loss: 0.0051\n",
            "Epoch 47/200\n",
            "1257/1257 [==============================] - 0s 284us/step - loss: 0.0043\n",
            "Epoch 48/200\n",
            "1257/1257 [==============================] - 0s 279us/step - loss: 0.0036\n",
            "Epoch 49/200\n",
            "  32/1257 [..............................] - ETA: 0s - loss: 0.0038"
          ],
          "name": "stdout"
        },
        {
          "output_type": "stream",
          "text": [
            "1257/1257 [==============================] - 0s 272us/step - loss: 0.0030\n",
            "Epoch 50/200\n",
            "1257/1257 [==============================] - 0s 271us/step - loss: 0.0024\n",
            "Epoch 51/200\n",
            "1257/1257 [==============================] - 0s 276us/step - loss: 0.0020\n",
            "Epoch 52/200\n",
            "1257/1257 [==============================] - 0s 280us/step - loss: 0.0017\n",
            "Epoch 53/200\n",
            "1257/1257 [==============================] - 0s 279us/step - loss: 0.0014\n",
            "Epoch 54/200\n",
            "1257/1257 [==============================] - 0s 284us/step - loss: 0.0011\n",
            "Epoch 55/200\n",
            "1257/1257 [==============================] - 0s 279us/step - loss: 9.1899e-04\n",
            "Epoch 56/200\n",
            "1257/1257 [==============================] - 0s 278us/step - loss: 7.6074e-04\n",
            "Epoch 57/200\n",
            "1257/1257 [==============================] - 0s 280us/step - loss: 6.3813e-04\n",
            "Epoch 58/200\n",
            "1257/1257 [==============================] - 0s 275us/step - loss: 5.3984e-04\n",
            "Epoch 59/200\n",
            "1257/1257 [==============================] - 0s 274us/step - loss: 4.6586e-04\n",
            "Epoch 60/200\n",
            "1257/1257 [==============================] - 0s 267us/step - loss: 4.0922e-04\n",
            "Epoch 61/200\n",
            "1257/1257 [==============================] - 0s 270us/step - loss: 3.6518e-04\n",
            "Epoch 62/200\n",
            "1257/1257 [==============================] - 0s 283us/step - loss: 3.3308e-04\n",
            "Epoch 63/200\n",
            "1257/1257 [==============================] - 0s 280us/step - loss: 3.1041e-04\n",
            "Epoch 64/200\n",
            "1257/1257 [==============================] - 0s 274us/step - loss: 2.9221e-04\n",
            "Epoch 65/200\n",
            " 416/1257 [========>.....................] - ETA: 0s - loss: 2.1409e-04"
          ],
          "name": "stdout"
        },
        {
          "output_type": "stream",
          "text": [
            "1257/1257 [==============================] - 0s 279us/step - loss: 2.7934e-04\n",
            "Epoch 66/200\n",
            "1257/1257 [==============================] - 0s 282us/step - loss: 2.7097e-04\n",
            "Epoch 67/200\n",
            "1257/1257 [==============================] - 0s 281us/step - loss: 2.6456e-04\n",
            "Epoch 68/200\n",
            "1257/1257 [==============================] - 0s 280us/step - loss: 2.5973e-04\n",
            "Epoch 69/200\n",
            "1257/1257 [==============================] - 0s 270us/step - loss: 2.5592e-04\n",
            "Epoch 70/200\n",
            "1257/1257 [==============================] - 0s 264us/step - loss: 2.5358e-04\n",
            "Epoch 71/200\n",
            "1257/1257 [==============================] - 0s 279us/step - loss: 2.5218e-04\n",
            "Epoch 72/200\n",
            "1257/1257 [==============================] - 0s 277us/step - loss: 2.5134e-04\n",
            "Epoch 73/200\n",
            "1257/1257 [==============================] - 0s 281us/step - loss: 2.5036e-04\n",
            "Epoch 74/200\n",
            "1257/1257 [==============================] - 0s 275us/step - loss: 2.5036e-04\n",
            "Epoch 75/200\n",
            "1257/1257 [==============================] - 0s 276us/step - loss: 2.4986e-04\n",
            "Epoch 76/200\n",
            "1257/1257 [==============================] - 0s 280us/step - loss: 2.5046e-04\n",
            "Epoch 77/200\n",
            "1257/1257 [==============================] - 0s 286us/step - loss: 2.4960e-04\n",
            "Epoch 78/200\n",
            "1257/1257 [==============================] - 0s 277us/step - loss: 2.4881e-04\n",
            "Epoch 79/200\n",
            "1257/1257 [==============================] - 0s 286us/step - loss: 2.4937e-04\n",
            "Epoch 80/200\n",
            "1257/1257 [==============================] - 0s 285us/step - loss: 2.4953e-04\n"
          ],
          "name": "stdout"
        },
        {
          "output_type": "stream",
          "text": [
            "Epoch 81/200\n",
            "1257/1257 [==============================] - 0s 279us/step - loss: 2.4901e-04\n",
            "Epoch 82/200\n",
            "1257/1257 [==============================] - 0s 277us/step - loss: 2.4913e-04\n",
            "Epoch 83/200\n",
            "1257/1257 [==============================] - 0s 276us/step - loss: 2.4964e-04\n",
            "Epoch 84/200\n",
            "1257/1257 [==============================] - 0s 287us/step - loss: 2.4834e-04\n",
            "Epoch 85/200\n",
            "1257/1257 [==============================] - 0s 275us/step - loss: 2.4903e-04\n",
            "Epoch 86/200\n",
            "1257/1257 [==============================] - 0s 278us/step - loss: 2.4883e-04\n",
            "Epoch 87/200\n",
            "1257/1257 [==============================] - 0s 281us/step - loss: 2.4833e-04\n",
            "Epoch 88/200\n",
            "1257/1257 [==============================] - 0s 280us/step - loss: 2.4917e-04\n",
            "Epoch 89/200\n",
            "1257/1257 [==============================] - 0s 279us/step - loss: 2.4882e-04\n",
            "Epoch 90/200\n",
            "1257/1257 [==============================] - 0s 282us/step - loss: 2.4776e-04\n",
            "Epoch 91/200\n",
            "1257/1257 [==============================] - 0s 280us/step - loss: 2.4825e-04\n",
            "Epoch 92/200\n",
            "1257/1257 [==============================] - 0s 286us/step - loss: 2.5009e-04\n",
            "Epoch 93/200\n",
            "1257/1257 [==============================] - 0s 281us/step - loss: 2.4920e-04\n",
            "Epoch 94/200\n",
            "1257/1257 [==============================] - 0s 280us/step - loss: 2.4781e-04\n",
            "Epoch 95/200\n",
            "1257/1257 [==============================] - 0s 277us/step - loss: 2.4813e-04\n",
            "Epoch 96/200\n",
            "1024/1257 [=======================>......] - ETA: 0s - loss: 2.5020e-04"
          ],
          "name": "stdout"
        },
        {
          "output_type": "stream",
          "text": [
            "1257/1257 [==============================] - 0s 275us/step - loss: 2.4941e-04\n",
            "Epoch 97/200\n",
            "1257/1257 [==============================] - 0s 282us/step - loss: 2.4849e-04\n",
            "Epoch 98/200\n",
            "1257/1257 [==============================] - 0s 278us/step - loss: 2.4891e-04\n",
            "Epoch 99/200\n",
            "1257/1257 [==============================] - 0s 282us/step - loss: 2.4798e-04\n",
            "Epoch 100/200\n",
            "1257/1257 [==============================] - 0s 284us/step - loss: 2.4759e-04\n",
            "Epoch 101/200\n",
            "1257/1257 [==============================] - 0s 280us/step - loss: 2.4663e-04\n",
            "Epoch 102/200\n",
            "1257/1257 [==============================] - 0s 278us/step - loss: 2.4840e-04\n",
            "Epoch 103/200\n",
            "1257/1257 [==============================] - 0s 276us/step - loss: 2.4784e-04\n",
            "Epoch 104/200\n",
            "1257/1257 [==============================] - 0s 283us/step - loss: 2.4779e-04\n",
            "Epoch 105/200\n",
            "1257/1257 [==============================] - 0s 279us/step - loss: 2.4711e-04\n",
            "Epoch 106/200\n",
            "1257/1257 [==============================] - 0s 278us/step - loss: 2.4705e-04\n",
            "Epoch 107/200\n",
            "1257/1257 [==============================] - 0s 282us/step - loss: 2.4797e-04\n",
            "Epoch 108/200\n",
            "1257/1257 [==============================] - 0s 289us/step - loss: 2.4835e-04\n",
            "Epoch 109/200\n",
            "1257/1257 [==============================] - 0s 281us/step - loss: 2.4751e-04\n",
            "Epoch 110/200\n",
            "1257/1257 [==============================] - 0s 280us/step - loss: 2.4919e-04\n",
            "Epoch 111/200\n",
            "1257/1257 [==============================] - 0s 271us/step - loss: 2.4853e-04\n"
          ],
          "name": "stdout"
        },
        {
          "output_type": "stream",
          "text": [
            "Epoch 112/200\n",
            "1257/1257 [==============================] - 0s 273us/step - loss: 2.4898e-04\n",
            "Epoch 113/200\n",
            "1257/1257 [==============================] - 0s 281us/step - loss: 2.4767e-04\n",
            "Epoch 114/200\n",
            "1257/1257 [==============================] - 0s 279us/step - loss: 2.4664e-04\n",
            "Epoch 115/200\n",
            "1257/1257 [==============================] - 0s 285us/step - loss: 2.4650e-04\n",
            "Epoch 116/200\n",
            "1257/1257 [==============================] - 0s 287us/step - loss: 2.4611e-04\n",
            "Epoch 117/200\n",
            "1257/1257 [==============================] - 0s 281us/step - loss: 2.4714e-04\n",
            "Epoch 118/200\n",
            "1257/1257 [==============================] - 0s 286us/step - loss: 2.4674e-04\n",
            "Epoch 119/200\n",
            "1257/1257 [==============================] - 0s 286us/step - loss: 2.4678e-04\n",
            "Epoch 120/200\n",
            "1257/1257 [==============================] - 0s 283us/step - loss: 2.4655e-04\n",
            "Epoch 121/200\n",
            "1257/1257 [==============================] - 0s 284us/step - loss: 2.4754e-04\n",
            "Epoch 122/200\n",
            "1257/1257 [==============================] - 0s 281us/step - loss: 2.4729e-04\n",
            "Epoch 123/200\n",
            "1257/1257 [==============================] - 0s 281us/step - loss: 2.4941e-04\n",
            "Epoch 124/200\n",
            "1257/1257 [==============================] - 0s 283us/step - loss: 2.4651e-04\n",
            "Epoch 125/200\n",
            "1257/1257 [==============================] - 0s 275us/step - loss: 2.4724e-04\n",
            "Epoch 126/200\n",
            "1257/1257 [==============================] - 0s 272us/step - loss: 2.4777e-04\n",
            "Epoch 127/200\n",
            " 992/1257 [======================>.......] - ETA: 0s - loss: 2.5089e-04"
          ],
          "name": "stdout"
        },
        {
          "output_type": "stream",
          "text": [
            "1257/1257 [==============================] - 0s 283us/step - loss: 2.4701e-04\n",
            "Epoch 128/200\n",
            "1257/1257 [==============================] - 0s 278us/step - loss: 2.4895e-04\n",
            "Epoch 129/200\n",
            "1257/1257 [==============================] - 0s 281us/step - loss: 2.4767e-04\n",
            "Epoch 130/200\n",
            "1257/1257 [==============================] - 0s 285us/step - loss: 2.4735e-04\n",
            "Epoch 131/200\n",
            "1257/1257 [==============================] - 0s 279us/step - loss: 2.4618e-04\n",
            "Epoch 132/200\n",
            "1257/1257 [==============================] - 0s 279us/step - loss: 2.4713e-04\n",
            "Epoch 133/200\n",
            "1257/1257 [==============================] - 0s 280us/step - loss: 2.4551e-04\n",
            "Epoch 134/200\n",
            "1257/1257 [==============================] - 0s 285us/step - loss: 2.4879e-04\n",
            "Epoch 135/200\n",
            "1257/1257 [==============================] - 0s 282us/step - loss: 2.4781e-04\n",
            "Epoch 136/200\n",
            "1257/1257 [==============================] - 0s 279us/step - loss: 2.4682e-04\n",
            "Epoch 137/200\n",
            "1257/1257 [==============================] - 0s 289us/step - loss: 2.4941e-04\n",
            "Epoch 138/200\n",
            "1257/1257 [==============================] - 0s 277us/step - loss: 2.4817e-04\n",
            "Epoch 139/200\n",
            "1257/1257 [==============================] - 0s 282us/step - loss: 2.5020e-04\n",
            "Epoch 140/200\n",
            "1257/1257 [==============================] - 0s 275us/step - loss: 2.4810e-04\n",
            "Epoch 141/200\n",
            "1257/1257 [==============================] - 0s 278us/step - loss: 2.4826e-04\n",
            "Epoch 142/200\n",
            "1257/1257 [==============================] - 0s 283us/step - loss: 2.5146e-04\n"
          ],
          "name": "stdout"
        },
        {
          "output_type": "stream",
          "text": [
            "Epoch 143/200\n",
            "1257/1257 [==============================] - 0s 280us/step - loss: 2.4983e-04\n",
            "Epoch 144/200\n",
            "1257/1257 [==============================] - 0s 279us/step - loss: 2.4627e-04\n",
            "Epoch 145/200\n",
            "1257/1257 [==============================] - 0s 274us/step - loss: 2.4653e-04\n",
            "Epoch 146/200\n",
            "1257/1257 [==============================] - 0s 276us/step - loss: 2.4740e-04\n",
            "Epoch 147/200\n",
            "1257/1257 [==============================] - 0s 282us/step - loss: 2.4575e-04\n",
            "Epoch 148/200\n",
            "1257/1257 [==============================] - 0s 275us/step - loss: 2.4844e-04\n",
            "Epoch 149/200\n",
            "1257/1257 [==============================] - 0s 287us/step - loss: 2.4892e-04\n",
            "Epoch 150/200\n",
            "1257/1257 [==============================] - 0s 280us/step - loss: 2.4806e-04\n",
            "Epoch 151/200\n",
            "1257/1257 [==============================] - 0s 276us/step - loss: 2.4917e-04\n",
            "Epoch 152/200\n",
            "1257/1257 [==============================] - 0s 281us/step - loss: 2.5396e-04\n",
            "Epoch 153/200\n",
            "1257/1257 [==============================] - 0s 271us/step - loss: 2.5133e-04\n",
            "Epoch 154/200\n",
            "1257/1257 [==============================] - 0s 276us/step - loss: 2.4809e-04\n",
            "Epoch 155/200\n",
            "1257/1257 [==============================] - 0s 274us/step - loss: 2.4787e-04\n",
            "Epoch 156/200\n",
            "1257/1257 [==============================] - 0s 268us/step - loss: 2.4748e-04\n",
            "Epoch 157/200\n",
            "1257/1257 [==============================] - 0s 278us/step - loss: 2.4782e-04\n",
            "Epoch 158/200\n",
            "1257/1257 [==============================] - 0s 277us/step - loss: 2.4605e-04\n",
            "Epoch 159/200\n",
            "  32/1257 [..............................] - ETA: 0s - loss: 1.4438e-04"
          ],
          "name": "stdout"
        },
        {
          "output_type": "stream",
          "text": [
            "1257/1257 [==============================] - 0s 276us/step - loss: 2.5068e-04\n",
            "Epoch 160/200\n",
            "1257/1257 [==============================] - 0s 276us/step - loss: 2.4784e-04\n",
            "Epoch 161/200\n",
            "1257/1257 [==============================] - 0s 276us/step - loss: 2.4601e-04\n",
            "Epoch 162/200\n",
            "1257/1257 [==============================] - 0s 283us/step - loss: 2.4605e-04\n",
            "Epoch 163/200\n",
            "1257/1257 [==============================] - 0s 285us/step - loss: 2.4714e-04\n",
            "Epoch 164/200\n",
            "1257/1257 [==============================] - 0s 284us/step - loss: 2.4756e-04\n",
            "Epoch 165/200\n",
            "1257/1257 [==============================] - 0s 278us/step - loss: 2.4713e-04\n",
            "Epoch 166/200\n",
            "1257/1257 [==============================] - 0s 279us/step - loss: 2.4979e-04\n",
            "Epoch 167/200\n",
            "1257/1257 [==============================] - 0s 277us/step - loss: 2.4739e-04\n",
            "Epoch 168/200\n",
            "1257/1257 [==============================] - 0s 281us/step - loss: 2.4680e-04\n",
            "Epoch 169/200\n",
            "1257/1257 [==============================] - 0s 281us/step - loss: 2.4778e-04\n",
            "Epoch 170/200\n",
            "1257/1257 [==============================] - 0s 278us/step - loss: 2.4665e-04\n",
            "Epoch 171/200\n",
            "1257/1257 [==============================] - 0s 265us/step - loss: 2.4703e-04\n",
            "Epoch 172/200\n",
            "1257/1257 [==============================] - 0s 284us/step - loss: 2.4668e-04\n",
            "Epoch 173/200\n",
            "1257/1257 [==============================] - 0s 276us/step - loss: 2.4757e-04\n",
            "Epoch 174/200\n",
            "1248/1257 [============================>.] - ETA: 0s - loss: 2.4698e-04"
          ],
          "name": "stdout"
        },
        {
          "output_type": "stream",
          "text": [
            "1257/1257 [==============================] - 0s 273us/step - loss: 2.4745e-04\n",
            "Epoch 175/200\n",
            "1257/1257 [==============================] - 0s 278us/step - loss: 2.4641e-04\n",
            "Epoch 176/200\n",
            "1257/1257 [==============================] - 0s 279us/step - loss: 2.4976e-04\n",
            "Epoch 177/200\n",
            "1257/1257 [==============================] - 0s 277us/step - loss: 2.5398e-04\n",
            "Epoch 178/200\n",
            "1257/1257 [==============================] - 0s 277us/step - loss: 2.4836e-04\n",
            "Epoch 179/200\n",
            "1257/1257 [==============================] - 0s 265us/step - loss: 2.4660e-04\n",
            "Epoch 180/200\n",
            "1257/1257 [==============================] - 0s 267us/step - loss: 2.4652e-04\n",
            "Epoch 181/200\n",
            "1257/1257 [==============================] - 0s 276us/step - loss: 2.4820e-04\n",
            "Epoch 182/200\n",
            "1257/1257 [==============================] - 0s 285us/step - loss: 2.4751e-04\n",
            "Epoch 183/200\n",
            "1257/1257 [==============================] - 0s 274us/step - loss: 2.4872e-04\n",
            "Epoch 184/200\n",
            "1257/1257 [==============================] - 0s 277us/step - loss: 2.4715e-04\n",
            "Epoch 185/200\n",
            "1257/1257 [==============================] - 0s 275us/step - loss: 2.4720e-04\n",
            "Epoch 186/200\n",
            "1257/1257 [==============================] - 0s 281us/step - loss: 2.4894e-04\n",
            "Epoch 187/200\n",
            "1257/1257 [==============================] - 0s 275us/step - loss: 2.4759e-04\n",
            "Epoch 188/200\n",
            "1257/1257 [==============================] - 0s 281us/step - loss: 2.4762e-04\n",
            "Epoch 189/200\n",
            "1257/1257 [==============================] - 0s 278us/step - loss: 2.4923e-04\n",
            "Epoch 190/200\n",
            " 448/1257 [=========>....................] - ETA: 0s - loss: 2.4685e-04"
          ],
          "name": "stdout"
        },
        {
          "output_type": "stream",
          "text": [
            "1257/1257 [==============================] - 0s 278us/step - loss: 2.4848e-04\n",
            "Epoch 191/200\n",
            "1257/1257 [==============================] - 0s 285us/step - loss: 2.4634e-04\n",
            "Epoch 192/200\n",
            "1257/1257 [==============================] - 0s 280us/step - loss: 2.4713e-04\n",
            "Epoch 193/200\n",
            "1257/1257 [==============================] - 0s 268us/step - loss: 2.4694e-04\n",
            "Epoch 194/200\n",
            "1257/1257 [==============================] - 0s 277us/step - loss: 2.5115e-04\n",
            "Epoch 195/200\n",
            "1257/1257 [==============================] - 0s 276us/step - loss: 2.4929e-04\n",
            "Epoch 196/200\n",
            "1257/1257 [==============================] - 0s 279us/step - loss: 2.5336e-04\n",
            "Epoch 197/200\n",
            "1257/1257 [==============================] - 0s 287us/step - loss: 2.5208e-04\n",
            "Epoch 198/200\n",
            "1257/1257 [==============================] - 0s 282us/step - loss: 2.4785e-04\n",
            "Epoch 199/200\n",
            "1257/1257 [==============================] - 0s 282us/step - loss: 2.5115e-04\n",
            "Epoch 200/200\n",
            "1257/1257 [==============================] - 0s 276us/step - loss: 2.4562e-04\n"
          ],
          "name": "stdout"
        },
        {
          "output_type": "execute_result",
          "data": {
            "text/plain": [
              "<keras.callbacks.History at 0x7f44ae835c18>"
            ]
          },
          "metadata": {
            "tags": []
          },
          "execution_count": 54
        }
      ]
    },
    {
      "metadata": {
        "id": "OqKstopCXFPm",
        "colab_type": "code",
        "colab": {
          "resources": {
            "http://localhost:8080/nbextensions/google.colab/files.js": {
              "data": "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",
              "ok": true,
              "headers": [
                [
                  "content-type",
                  "application/javascript"
                ]
              ],
              "status": 200,
              "status_text": ""
            }
          },
          "base_uri": "https://localhost:8080/",
          "height": 89
        },
        "outputId": "5532afa8-b4e4-4558-8141-ba1f8ed40f55"
      },
      "cell_type": "code",
      "source": [
        "from google.colab import files\n",
        "\n",
        "uploaded = files.upload()\n",
        "\n",
        "for fn in uploaded.keys():\n",
        "  print('User uploaded file \"{name}\" with length {length} bytes'.format(\n",
        "      name=fn, length=len(uploaded[fn])))"
      ],
      "execution_count": 26,
      "outputs": [
        {
          "output_type": "display_data",
          "data": {
            "text/html": [
              "\n",
              "     <input type=\"file\" id=\"files-0c87f461-6369-4325-8e39-f8c3aa9f0d40\" name=\"files[]\" multiple disabled />\n",
              "     <output id=\"result-0c87f461-6369-4325-8e39-f8c3aa9f0d40\">\n",
              "      Upload widget is only available when the cell has been executed in the\n",
              "      current browser session. Please rerun this cell to enable.\n",
              "      </output>\n",
              "      <script src=\"/nbextensions/google.colab/files.js\"></script> "
            ],
            "text/plain": [
              "<IPython.core.display.HTML object>"
            ]
          },
          "metadata": {
            "tags": []
          }
        },
        {
          "output_type": "stream",
          "text": [
            "Saving Google_Stock_Price_Test.csv to Google_Stock_Price_Test.csv\n",
            "User uploaded file \"Google_Stock_Price_Test.csv\" with length 1029 bytes\n"
          ],
          "name": "stdout"
        }
      ]
    },
    {
      "metadata": {
        "id": "GKlQfyjqX0Lp",
        "colab_type": "code",
        "colab": {}
      },
      "cell_type": "code",
      "source": [
        "test_set=pd.read_csv(\"Google_Stock_Price_Test.csv\")\n",
        "real_stock_price=test_set.iloc[:,1:2].values\n"
      ],
      "execution_count": 0,
      "outputs": []
    },
    {
      "metadata": {
        "id": "fnrTXQ2RYDD0",
        "colab_type": "code",
        "colab": {}
      },
      "cell_type": "code",
      "source": [
        "inputs=real_stock_price\n",
        "inputs=sc.transform(inputs)\n",
        "inputs=np.reshape(inputs,(20,1,1))\n",
        "predicted=regressor.predict(inputs)\n",
        "real_predicted=sc.inverse_transform(predicted)"
      ],
      "execution_count": 0,
      "outputs": []
    },
    {
      "metadata": {
        "id": "-XKBAkxOZ8Z7",
        "colab_type": "code",
        "colab": {
          "base_uri": "https://localhost:8080/",
          "height": 294
        },
        "outputId": "a45dc68b-0a4b-4349-b765-896a91854aa4"
      },
      "cell_type": "code",
      "source": [
        "plt.plot(real_stock_price,color='red',label='real price')\n",
        "plt.plot(real_predicted,color='blue',label='predicted price')\n",
        "plt.title('stok price')\n",
        "plt.xlabel('time')\n",
        "plt.ylabel('stock price')\n",
        "plt.legend()\n",
        "plt.show()"
      ],
      "execution_count": 62,
      "outputs": [
        {
          "output_type": "display_data",
          "data": {
            "image/png": "[encoded data removed]",
            "text/plain": [
              "<matplotlib.figure.Figure at 0x7f44d41e99b0>"
            ]
          },
          "metadata": {
            "tags": []
          }
        }
      ]
    },
    {
      "metadata": {
        "id": "6yqAjOhxdJU4",
        "colab_type": "code",
        "colab": {
          "base_uri": "https://localhost:8080/",
          "height": 34
        },
        "outputId": "ea9a11c4-ad8f-4af6-996e-4bc9329a7222"
      },
      "cell_type": "code",
      "source": [
        ""
      ],
      "execution_count": 41,
      "outputs": [
        {
          "output_type": "execute_result",
          "data": {
            "text/plain": [
              "(20, 1)"
            ]
          },
          "metadata": {
            "tags": []
          },
          "execution_count": 41
        }
      ]
    },
    {
      "metadata": {
        "id": "FfA-TUpXeIfT",
        "colab_type": "code",
        "colab": {}
      },
      "cell_type": "code",
      "source": [
        ""
      ],
      "execution_count": 0,
      "outputs": []
    }
  ]
}